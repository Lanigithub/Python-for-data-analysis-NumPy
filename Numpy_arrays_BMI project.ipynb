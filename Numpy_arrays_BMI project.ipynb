{
 "cells": [
  {
   "cell_type": "code",
   "execution_count": 1,
   "metadata": {},
   "outputs": [
    {
     "name": "stdout",
     "output_type": "stream",
     "text": [
      "[[ 1  2  3  4]\n",
      " [ 5  6  7  8]\n",
      " [ 9 10 11 12]]\n",
      "[[2 3]\n",
      " [6 7]]\n"
     ]
    }
   ],
   "source": [
    "import numpy as np\n",
    "\n",
    "# Create the following rank 2 array with shape (3, 4)\n",
    "# [[ 1  2  3  4]\n",
    "#  [ 5  6  7  8]\n",
    "#  [ 9 10 11 12]]\n",
    "a = np.array([[1,2,3,4], [5,6,7,8], [9,10,11,12]])\n",
    "\n",
    "# Use slicing to pull out the subarray consisting of the first 2 rows\n",
    "# and columns 1 and 2; b is the following array of shape (2, 2):\n",
    "# [[2 3]\n",
    "#  [6 7]]\n",
    "b = a[:2, 1:3]  # or b= a[0:2,1:3]  keeping arrays indexed from first row to 2nd row 0:1 and columns from 1 to 2nd 1:3 last number is not included\n",
    "\n",
    "\n",
    "print(a)\n",
    "print(b)\n"
   ]
  },
  {
   "cell_type": "code",
   "execution_count": 2,
   "metadata": {},
   "outputs": [
    {
     "name": "stdout",
     "output_type": "stream",
     "text": [
      "[[2 3]\n",
      " [6 7]]\n"
     ]
    }
   ],
   "source": [
    "b=a[0:2,1:3]\n",
    "print(b)"
   ]
  },
  {
   "cell_type": "code",
   "execution_count": 3,
   "metadata": {},
   "outputs": [
    {
     "name": "stdout",
     "output_type": "stream",
     "text": [
      "2\n"
     ]
    }
   ],
   "source": [
    "print (a[0,1]) # in the array a, the element in the index of first row and 2nd column"
   ]
  },
  {
   "cell_type": "code",
   "execution_count": 4,
   "metadata": {},
   "outputs": [
    {
     "name": "stdout",
     "output_type": "stream",
     "text": [
      "(2, 2)\n"
     ]
    }
   ],
   "source": [
    "print(np.shape(b)) # 2x 2 matrix or arrays"
   ]
  },
  {
   "cell_type": "code",
   "execution_count": 5,
   "metadata": {},
   "outputs": [
    {
     "name": "stdout",
     "output_type": "stream",
     "text": [
      "(3, 4)\n"
     ]
    }
   ],
   "source": [
    "print(np.shape(a))  # 3x3 matrix or arrays"
   ]
  },
  {
   "cell_type": "code",
   "execution_count": 6,
   "metadata": {},
   "outputs": [
    {
     "name": "stdout",
     "output_type": "stream",
     "text": [
      "12\n"
     ]
    }
   ],
   "source": [
    "print(np.size(a)) # how many elements in the array a"
   ]
  },
  {
   "cell_type": "code",
   "execution_count": 7,
   "metadata": {
    "scrolled": true
   },
   "outputs": [
    {
     "data": {
      "text/plain": [
       "4"
      ]
     },
     "execution_count": 7,
     "metadata": {},
     "output_type": "execute_result"
    }
   ],
   "source": [
    "np.size(b)"
   ]
  },
  {
   "cell_type": "code",
   "execution_count": 8,
   "metadata": {},
   "outputs": [
    {
     "data": {
      "text/plain": [
       "(2, 2)"
      ]
     },
     "execution_count": 8,
     "metadata": {},
     "output_type": "execute_result"
    }
   ],
   "source": [
    "np.shape(b)"
   ]
  },
  {
   "cell_type": "code",
   "execution_count": 9,
   "metadata": {},
   "outputs": [
    {
     "name": "stdout",
     "output_type": "stream",
     "text": [
      "   0   1   2   3\n",
      "0  1   2   3   4\n",
      "1  5   6   7   8\n",
      "2  9  10  11  12\n"
     ]
    }
   ],
   "source": [
    "# Convert a np array to a dataframe:\n",
    "\n",
    "import numpy as np\n",
    "import pandas as pd\n",
    "df = pd.DataFrame(data=a)\n",
    "print(df)\n"
   ]
  },
  {
   "cell_type": "code",
   "execution_count": 10,
   "metadata": {},
   "outputs": [
    {
     "data": {
      "text/html": [
       "<div>\n",
       "<style scoped>\n",
       "    .dataframe tbody tr th:only-of-type {\n",
       "        vertical-align: middle;\n",
       "    }\n",
       "\n",
       "    .dataframe tbody tr th {\n",
       "        vertical-align: top;\n",
       "    }\n",
       "\n",
       "    .dataframe thead th {\n",
       "        text-align: right;\n",
       "    }\n",
       "</style>\n",
       "<table border=\"1\" class=\"dataframe\">\n",
       "  <thead>\n",
       "    <tr style=\"text-align: right;\">\n",
       "      <th></th>\n",
       "      <th>x</th>\n",
       "      <th>y</th>\n",
       "      <th>z</th>\n",
       "      <th>m</th>\n",
       "    </tr>\n",
       "  </thead>\n",
       "  <tbody>\n",
       "    <tr>\n",
       "      <th>a</th>\n",
       "      <td>1</td>\n",
       "      <td>2</td>\n",
       "      <td>3</td>\n",
       "      <td>4</td>\n",
       "    </tr>\n",
       "    <tr>\n",
       "      <th>b</th>\n",
       "      <td>5</td>\n",
       "      <td>6</td>\n",
       "      <td>7</td>\n",
       "      <td>8</td>\n",
       "    </tr>\n",
       "    <tr>\n",
       "      <th>c</th>\n",
       "      <td>9</td>\n",
       "      <td>10</td>\n",
       "      <td>11</td>\n",
       "      <td>12</td>\n",
       "    </tr>\n",
       "  </tbody>\n",
       "</table>\n",
       "</div>"
      ],
      "text/plain": [
       "   x   y   z   m\n",
       "a  1   2   3   4\n",
       "b  5   6   7   8\n",
       "c  9  10  11  12"
      ]
     },
     "execution_count": 10,
     "metadata": {},
     "output_type": "execute_result"
    }
   ],
   "source": [
    "# add the array to df as a column/rename the column of a dataframe use df.columns=\n",
    "df.columns=[\"x\",\"y\",\"z\",\"m\"]\n",
    "df\n",
    "df.index=['a','b','c']\n",
    "df"
   ]
  },
  {
   "cell_type": "code",
   "execution_count": 11,
   "metadata": {},
   "outputs": [],
   "source": [
    "# Remame columns and index of a df from panda using df.columns=[\"\",\"\",\"\"]  or df.index= [\"\",\",\"]"
   ]
  },
  {
   "cell_type": "code",
   "execution_count": 12,
   "metadata": {},
   "outputs": [
    {
     "data": {
      "text/plain": [
       "array([[  9,  55,  90,   0],\n",
       "       [ 12,  56,  80,   0],\n",
       "       [ 15,  67, 125,   0],\n",
       "       [ 45,  61, 113,   0],\n",
       "       [ 46,  67, 180,   0]])"
      ]
     },
     "execution_count": 12,
     "metadata": {},
     "output_type": "execute_result"
    }
   ],
   "source": [
    "# Create a data array A in numpy\n",
    "A=np.array([[9,55,90, 0],[12,56,80,0],[15,67,125,0],[45,61,113,0],[46,67,180,0]])\n",
    "A"
   ]
  },
  {
   "cell_type": "code",
   "execution_count": 13,
   "metadata": {},
   "outputs": [
    {
     "name": "stdout",
     "output_type": "stream",
     "text": [
      "[[  9  55  90   0]\n",
      " [ 12  56  80   0]\n",
      " [ 15  67 125   0]\n",
      " [ 45  61 113   0]\n",
      " [ 46  67 180   0]]\n"
     ]
    }
   ],
   "source": [
    "print(A)"
   ]
  },
  {
   "cell_type": "code",
   "execution_count": 14,
   "metadata": {},
   "outputs": [
    {
     "data": {
      "text/plain": [
       "(5, 4)"
      ]
     },
     "execution_count": 14,
     "metadata": {},
     "output_type": "execute_result"
    }
   ],
   "source": [
    "np.shape(A)  # number of rowx number of columns 5x4 shape"
   ]
  },
  {
   "cell_type": "code",
   "execution_count": 15,
   "metadata": {},
   "outputs": [
    {
     "data": {
      "text/plain": [
       "numpy.ndarray"
      ]
     },
     "execution_count": 15,
     "metadata": {},
     "output_type": "execute_result"
    }
   ],
   "source": [
    "type(A)"
   ]
  },
  {
   "cell_type": "code",
   "execution_count": 16,
   "metadata": {},
   "outputs": [
    {
     "data": {
      "text/plain": [
       "20"
      ]
     },
     "execution_count": 16,
     "metadata": {},
     "output_type": "execute_result"
    }
   ],
   "source": [
    "np.size(A)   # 20 elements "
   ]
  },
  {
   "cell_type": "code",
   "execution_count": 17,
   "metadata": {},
   "outputs": [
    {
     "name": "stdout",
     "output_type": "stream",
     "text": [
      "    0   1    2  3\n",
      "0   9  55   90  0\n",
      "1  12  56   80  0\n",
      "2  15  67  125  0\n",
      "3  45  61  113  0\n",
      "4  46  67  180  0\n"
     ]
    }
   ],
   "source": [
    "# Convert the array A to a dataframe df\n",
    "import pandas as pd\n",
    "df = pd.DataFrame(A)\n",
    "print(df)\n"
   ]
  },
  {
   "cell_type": "code",
   "execution_count": 18,
   "metadata": {},
   "outputs": [
    {
     "data": {
      "text/html": [
       "<div>\n",
       "<style scoped>\n",
       "    .dataframe tbody tr th:only-of-type {\n",
       "        vertical-align: middle;\n",
       "    }\n",
       "\n",
       "    .dataframe tbody tr th {\n",
       "        vertical-align: top;\n",
       "    }\n",
       "\n",
       "    .dataframe thead th {\n",
       "        text-align: right;\n",
       "    }\n",
       "</style>\n",
       "<table border=\"1\" class=\"dataframe\">\n",
       "  <thead>\n",
       "    <tr style=\"text-align: right;\">\n",
       "      <th></th>\n",
       "      <th>Age</th>\n",
       "      <th>Height(in)</th>\n",
       "      <th>Weight(lbs)</th>\n",
       "      <th>BMI</th>\n",
       "    </tr>\n",
       "  </thead>\n",
       "  <tbody>\n",
       "    <tr>\n",
       "      <th>Elina</th>\n",
       "      <td>9</td>\n",
       "      <td>55</td>\n",
       "      <td>90</td>\n",
       "      <td>0</td>\n",
       "    </tr>\n",
       "    <tr>\n",
       "      <th>Brain</th>\n",
       "      <td>12</td>\n",
       "      <td>56</td>\n",
       "      <td>80</td>\n",
       "      <td>0</td>\n",
       "    </tr>\n",
       "    <tr>\n",
       "      <th>Vince</th>\n",
       "      <td>15</td>\n",
       "      <td>67</td>\n",
       "      <td>125</td>\n",
       "      <td>0</td>\n",
       "    </tr>\n",
       "    <tr>\n",
       "      <th>Lonnie</th>\n",
       "      <td>45</td>\n",
       "      <td>61</td>\n",
       "      <td>113</td>\n",
       "      <td>0</td>\n",
       "    </tr>\n",
       "    <tr>\n",
       "      <th>CJ</th>\n",
       "      <td>46</td>\n",
       "      <td>67</td>\n",
       "      <td>180</td>\n",
       "      <td>0</td>\n",
       "    </tr>\n",
       "  </tbody>\n",
       "</table>\n",
       "</div>"
      ],
      "text/plain": [
       "        Age  Height(in)  Weight(lbs)  BMI\n",
       "Elina     9          55           90    0\n",
       "Brain    12          56           80    0\n",
       "Vince    15          67          125    0\n",
       "Lonnie   45          61          113    0\n",
       "CJ       46          67          180    0"
      ]
     },
     "execution_count": 18,
     "metadata": {},
     "output_type": "execute_result"
    }
   ],
   "source": [
    "# add the array to df as a column/rename the column of a dataframe use df.columns=\n",
    "df.columns=[\"Age\",\"Height(in)\",\"Weight(lbs)\",\"BMI\"]\n",
    "\n",
    "df.index=['Elina','Brain','Vince','Lonnie','CJ']\n",
    "df"
   ]
  },
  {
   "cell_type": "code",
   "execution_count": 19,
   "metadata": {},
   "outputs": [
    {
     "data": {
      "text/html": [
       "<div>\n",
       "<style scoped>\n",
       "    .dataframe tbody tr th:only-of-type {\n",
       "        vertical-align: middle;\n",
       "    }\n",
       "\n",
       "    .dataframe tbody tr th {\n",
       "        vertical-align: top;\n",
       "    }\n",
       "\n",
       "    .dataframe thead th {\n",
       "        text-align: right;\n",
       "    }\n",
       "</style>\n",
       "<table border=\"1\" class=\"dataframe\">\n",
       "  <thead>\n",
       "    <tr style=\"text-align: right;\">\n",
       "      <th></th>\n",
       "      <th>Age</th>\n",
       "      <th>Height(in)</th>\n",
       "      <th>Weight(lbs)</th>\n",
       "      <th>BMI</th>\n",
       "      <th>Height(meter)</th>\n",
       "    </tr>\n",
       "  </thead>\n",
       "  <tbody>\n",
       "    <tr>\n",
       "      <th>Elina</th>\n",
       "      <td>9</td>\n",
       "      <td>55</td>\n",
       "      <td>90</td>\n",
       "      <td>0</td>\n",
       "      <td>1.3970</td>\n",
       "    </tr>\n",
       "    <tr>\n",
       "      <th>Brain</th>\n",
       "      <td>12</td>\n",
       "      <td>56</td>\n",
       "      <td>80</td>\n",
       "      <td>0</td>\n",
       "      <td>1.4224</td>\n",
       "    </tr>\n",
       "    <tr>\n",
       "      <th>Vince</th>\n",
       "      <td>15</td>\n",
       "      <td>67</td>\n",
       "      <td>125</td>\n",
       "      <td>0</td>\n",
       "      <td>1.7018</td>\n",
       "    </tr>\n",
       "    <tr>\n",
       "      <th>Lonnie</th>\n",
       "      <td>45</td>\n",
       "      <td>61</td>\n",
       "      <td>113</td>\n",
       "      <td>0</td>\n",
       "      <td>1.5494</td>\n",
       "    </tr>\n",
       "    <tr>\n",
       "      <th>CJ</th>\n",
       "      <td>46</td>\n",
       "      <td>67</td>\n",
       "      <td>180</td>\n",
       "      <td>0</td>\n",
       "      <td>1.7018</td>\n",
       "    </tr>\n",
       "  </tbody>\n",
       "</table>\n",
       "</div>"
      ],
      "text/plain": [
       "        Age  Height(in)  Weight(lbs)  BMI  Height(meter)\n",
       "Elina     9          55           90    0         1.3970\n",
       "Brain    12          56           80    0         1.4224\n",
       "Vince    15          67          125    0         1.7018\n",
       "Lonnie   45          61          113    0         1.5494\n",
       "CJ       46          67          180    0         1.7018"
      ]
     },
     "execution_count": 19,
     "metadata": {},
     "output_type": "execute_result"
    }
   ],
   "source": [
    "# Finding BMI for each person\n",
    "# BMI=weight (kg)/height (meter squared)\n",
    "# need to change height from in to meter: \n",
    "# 1 in= 0.0254 meter\n",
    "# so \"Height(meter)= Height(in)*0.0254\n",
    "df[\"Height(meter)\"]=df['Height(in)']*0.0254\n",
    "df.head()"
   ]
  },
  {
   "cell_type": "code",
   "execution_count": 20,
   "metadata": {},
   "outputs": [
    {
     "data": {
      "text/html": [
       "<div>\n",
       "<style scoped>\n",
       "    .dataframe tbody tr th:only-of-type {\n",
       "        vertical-align: middle;\n",
       "    }\n",
       "\n",
       "    .dataframe tbody tr th {\n",
       "        vertical-align: top;\n",
       "    }\n",
       "\n",
       "    .dataframe thead th {\n",
       "        text-align: right;\n",
       "    }\n",
       "</style>\n",
       "<table border=\"1\" class=\"dataframe\">\n",
       "  <thead>\n",
       "    <tr style=\"text-align: right;\">\n",
       "      <th></th>\n",
       "      <th>Age</th>\n",
       "      <th>Height(in)</th>\n",
       "      <th>Weight(lbs)</th>\n",
       "      <th>BMI</th>\n",
       "      <th>Height(meter)</th>\n",
       "      <th>Weight(kg)</th>\n",
       "    </tr>\n",
       "  </thead>\n",
       "  <tbody>\n",
       "    <tr>\n",
       "      <th>Elina</th>\n",
       "      <td>9</td>\n",
       "      <td>55</td>\n",
       "      <td>90</td>\n",
       "      <td>0</td>\n",
       "      <td>1.3970</td>\n",
       "      <td>40.8240</td>\n",
       "    </tr>\n",
       "    <tr>\n",
       "      <th>Brain</th>\n",
       "      <td>12</td>\n",
       "      <td>56</td>\n",
       "      <td>80</td>\n",
       "      <td>0</td>\n",
       "      <td>1.4224</td>\n",
       "      <td>36.2880</td>\n",
       "    </tr>\n",
       "    <tr>\n",
       "      <th>Vince</th>\n",
       "      <td>15</td>\n",
       "      <td>67</td>\n",
       "      <td>125</td>\n",
       "      <td>0</td>\n",
       "      <td>1.7018</td>\n",
       "      <td>56.7000</td>\n",
       "    </tr>\n",
       "    <tr>\n",
       "      <th>Lonnie</th>\n",
       "      <td>45</td>\n",
       "      <td>61</td>\n",
       "      <td>113</td>\n",
       "      <td>0</td>\n",
       "      <td>1.5494</td>\n",
       "      <td>51.2568</td>\n",
       "    </tr>\n",
       "    <tr>\n",
       "      <th>CJ</th>\n",
       "      <td>46</td>\n",
       "      <td>67</td>\n",
       "      <td>180</td>\n",
       "      <td>0</td>\n",
       "      <td>1.7018</td>\n",
       "      <td>81.6480</td>\n",
       "    </tr>\n",
       "  </tbody>\n",
       "</table>\n",
       "</div>"
      ],
      "text/plain": [
       "        Age  Height(in)  Weight(lbs)  BMI  Height(meter)  Weight(kg)\n",
       "Elina     9          55           90    0         1.3970     40.8240\n",
       "Brain    12          56           80    0         1.4224     36.2880\n",
       "Vince    15          67          125    0         1.7018     56.7000\n",
       "Lonnie   45          61          113    0         1.5494     51.2568\n",
       "CJ       46          67          180    0         1.7018     81.6480"
      ]
     },
     "execution_count": 20,
     "metadata": {},
     "output_type": "execute_result"
    }
   ],
   "source": [
    "# change \"Weight(lbs)\" to \"Weight(kg)\"\n",
    "# 1 lb= 0.4536 kg\n",
    "# so \"Weight(kg)\" = \"Weight(lbs)\"*0.4536\n",
    "df[\"Weight(kg)\"] =df[\"Weight(lbs)\"]*0.4536\n",
    "df.head()"
   ]
  },
  {
   "cell_type": "code",
   "execution_count": 21,
   "metadata": {},
   "outputs": [
    {
     "name": "stdout",
     "output_type": "stream",
     "text": [
      "Elina     20.918124\n",
      "Brain     17.935750\n",
      "Vince     19.577896\n",
      "Lonnie    21.351303\n",
      "CJ        28.192170\n",
      "dtype: float64\n"
     ]
    }
   ],
   "source": [
    "# Now calculate the BMI :BMI=weight (kg)/height (meter squared) using for loop \n",
    "i=1\n",
    "for i in range(5):\n",
    "    BMI_new=df[\"Weight(kg)\"]/(df[\"Height(meter)\"]**2)\n",
    "print(BMI_new)"
   ]
  },
  {
   "cell_type": "code",
   "execution_count": 22,
   "metadata": {},
   "outputs": [
    {
     "data": {
      "text/html": [
       "<div>\n",
       "<style scoped>\n",
       "    .dataframe tbody tr th:only-of-type {\n",
       "        vertical-align: middle;\n",
       "    }\n",
       "\n",
       "    .dataframe tbody tr th {\n",
       "        vertical-align: top;\n",
       "    }\n",
       "\n",
       "    .dataframe thead th {\n",
       "        text-align: right;\n",
       "    }\n",
       "</style>\n",
       "<table border=\"1\" class=\"dataframe\">\n",
       "  <thead>\n",
       "    <tr style=\"text-align: right;\">\n",
       "      <th></th>\n",
       "      <th>Age</th>\n",
       "      <th>Height(in)</th>\n",
       "      <th>Weight(lbs)</th>\n",
       "      <th>BMI</th>\n",
       "      <th>Height(meter)</th>\n",
       "      <th>Weight(kg)</th>\n",
       "    </tr>\n",
       "  </thead>\n",
       "  <tbody>\n",
       "    <tr>\n",
       "      <th>Elina</th>\n",
       "      <td>9</td>\n",
       "      <td>55</td>\n",
       "      <td>90</td>\n",
       "      <td>20.918124</td>\n",
       "      <td>1.3970</td>\n",
       "      <td>40.8240</td>\n",
       "    </tr>\n",
       "    <tr>\n",
       "      <th>Brain</th>\n",
       "      <td>12</td>\n",
       "      <td>56</td>\n",
       "      <td>80</td>\n",
       "      <td>17.935750</td>\n",
       "      <td>1.4224</td>\n",
       "      <td>36.2880</td>\n",
       "    </tr>\n",
       "    <tr>\n",
       "      <th>Vince</th>\n",
       "      <td>15</td>\n",
       "      <td>67</td>\n",
       "      <td>125</td>\n",
       "      <td>19.577896</td>\n",
       "      <td>1.7018</td>\n",
       "      <td>56.7000</td>\n",
       "    </tr>\n",
       "    <tr>\n",
       "      <th>Lonnie</th>\n",
       "      <td>45</td>\n",
       "      <td>61</td>\n",
       "      <td>113</td>\n",
       "      <td>21.351303</td>\n",
       "      <td>1.5494</td>\n",
       "      <td>51.2568</td>\n",
       "    </tr>\n",
       "    <tr>\n",
       "      <th>CJ</th>\n",
       "      <td>46</td>\n",
       "      <td>67</td>\n",
       "      <td>180</td>\n",
       "      <td>28.192170</td>\n",
       "      <td>1.7018</td>\n",
       "      <td>81.6480</td>\n",
       "    </tr>\n",
       "  </tbody>\n",
       "</table>\n",
       "</div>"
      ],
      "text/plain": [
       "        Age  Height(in)  Weight(lbs)        BMI  Height(meter)  Weight(kg)\n",
       "Elina     9          55           90  20.918124         1.3970     40.8240\n",
       "Brain    12          56           80  17.935750         1.4224     36.2880\n",
       "Vince    15          67          125  19.577896         1.7018     56.7000\n",
       "Lonnie   45          61          113  21.351303         1.5494     51.2568\n",
       "CJ       46          67          180  28.192170         1.7018     81.6480"
      ]
     },
     "execution_count": 22,
     "metadata": {},
     "output_type": "execute_result"
    }
   ],
   "source": [
    "# Bingo! \n",
    "# Now replace BMI with BMI_new\n",
    "# using df.replace(old, new)\n",
    "# Example: df[\"bore\"].replace(np.nan,avg_bore,inplace=True)  replacing the oldvalues in \"bore\" with the new values\n",
    "df[\"BMI\"].replace(0,BMI_new,inplace=True)\n",
    "df.head()"
   ]
  },
  {
   "cell_type": "code",
   "execution_count": 23,
   "metadata": {},
   "outputs": [],
   "source": [
    "# Swapping two columns\n",
    "# Example: cols = list(df.columns)\n",
    "# a, b = cols.index('LastName'), cols.index('MiddleName')\n",
    "# cols[b], cols[a] = cols[a], cols[b]\n",
    "# df = df[cols]"
   ]
  },
  {
   "cell_type": "code",
   "execution_count": 24,
   "metadata": {},
   "outputs": [
    {
     "data": {
      "text/html": [
       "<div>\n",
       "<style scoped>\n",
       "    .dataframe tbody tr th:only-of-type {\n",
       "        vertical-align: middle;\n",
       "    }\n",
       "\n",
       "    .dataframe tbody tr th {\n",
       "        vertical-align: top;\n",
       "    }\n",
       "\n",
       "    .dataframe thead th {\n",
       "        text-align: right;\n",
       "    }\n",
       "</style>\n",
       "<table border=\"1\" class=\"dataframe\">\n",
       "  <thead>\n",
       "    <tr style=\"text-align: right;\">\n",
       "      <th></th>\n",
       "      <th>Age</th>\n",
       "      <th>Height(in)</th>\n",
       "      <th>Weight(lbs)</th>\n",
       "      <th>Weight(kg)</th>\n",
       "      <th>Height(meter)</th>\n",
       "      <th>BMI</th>\n",
       "    </tr>\n",
       "  </thead>\n",
       "  <tbody>\n",
       "    <tr>\n",
       "      <th>Elina</th>\n",
       "      <td>9</td>\n",
       "      <td>55</td>\n",
       "      <td>90</td>\n",
       "      <td>40.8240</td>\n",
       "      <td>1.3970</td>\n",
       "      <td>20.918124</td>\n",
       "    </tr>\n",
       "    <tr>\n",
       "      <th>Brain</th>\n",
       "      <td>12</td>\n",
       "      <td>56</td>\n",
       "      <td>80</td>\n",
       "      <td>36.2880</td>\n",
       "      <td>1.4224</td>\n",
       "      <td>17.935750</td>\n",
       "    </tr>\n",
       "    <tr>\n",
       "      <th>Vince</th>\n",
       "      <td>15</td>\n",
       "      <td>67</td>\n",
       "      <td>125</td>\n",
       "      <td>56.7000</td>\n",
       "      <td>1.7018</td>\n",
       "      <td>19.577896</td>\n",
       "    </tr>\n",
       "    <tr>\n",
       "      <th>Lonnie</th>\n",
       "      <td>45</td>\n",
       "      <td>61</td>\n",
       "      <td>113</td>\n",
       "      <td>51.2568</td>\n",
       "      <td>1.5494</td>\n",
       "      <td>21.351303</td>\n",
       "    </tr>\n",
       "    <tr>\n",
       "      <th>CJ</th>\n",
       "      <td>46</td>\n",
       "      <td>67</td>\n",
       "      <td>180</td>\n",
       "      <td>81.6480</td>\n",
       "      <td>1.7018</td>\n",
       "      <td>28.192170</td>\n",
       "    </tr>\n",
       "  </tbody>\n",
       "</table>\n",
       "</div>"
      ],
      "text/plain": [
       "        Age  Height(in)  Weight(lbs)  Weight(kg)  Height(meter)        BMI\n",
       "Elina     9          55           90     40.8240         1.3970  20.918124\n",
       "Brain    12          56           80     36.2880         1.4224  17.935750\n",
       "Vince    15          67          125     56.7000         1.7018  19.577896\n",
       "Lonnie   45          61          113     51.2568         1.5494  21.351303\n",
       "CJ       46          67          180     81.6480         1.7018  28.192170"
      ]
     },
     "execution_count": 24,
     "metadata": {},
     "output_type": "execute_result"
    }
   ],
   "source": [
    "cols=list(df.columns)\n",
    "a,b,c=cols.index(\"BMI\"),cols.index(\"Height(meter)\"),cols.index(\"Weight(kg)\")\n",
    "cols[c],cols[b],cols[a]=cols[a],cols[b],cols[c]\n",
    "df=df[cols]\n",
    "df.head()"
   ]
  },
  {
   "cell_type": "code",
   "execution_count": null,
   "metadata": {},
   "outputs": [],
   "source": []
  }
 ],
 "metadata": {
  "kernelspec": {
   "display_name": "Python 3",
   "language": "python",
   "name": "python3"
  },
  "language_info": {
   "codemirror_mode": {
    "name": "ipython",
    "version": 3
   },
   "file_extension": ".py",
   "mimetype": "text/x-python",
   "name": "python",
   "nbconvert_exporter": "python",
   "pygments_lexer": "ipython3",
   "version": "3.7.1"
  }
 },
 "nbformat": 4,
 "nbformat_minor": 2
}
