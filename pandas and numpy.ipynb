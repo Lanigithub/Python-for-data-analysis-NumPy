{
 "cells": [
  {
   "cell_type": "code",
   "execution_count": null,
   "metadata": {},
   "outputs": [],
   "source": [
    "# The word pandas is an acronym which is derived from \"Python and data analysis\" and \"panel data\". \n",
    "#pandas is a software library written for the Python programming language for data manipulation and analysis.\n",
    "# In particular, it offers data structures and operations for manipulating numerical tables and time series.\n",
    "#Pandas is a popular Python package for data science, and with good reason: it offers powerful, expressive and flexible data structures\n",
    "#that make data manipulation and analysis easy, among many other things. The DataFrame is one of these structures."
   ]
  },
  {
   "cell_type": "code",
   "execution_count": null,
   "metadata": {},
   "outputs": [],
   "source": [
    "# In order to use Pandas in your Python IDE (Integrated Development Environment) like Jupyter Notebook or Spyder\n",
    "# (both of them come with Anaconda by default), you need to import the Pandas library first. \n",
    "# Importing a library means loading it into the memory and then it's there for you to work with"
   ]
  },
  {
   "cell_type": "code",
   "execution_count": null,
   "metadata": {},
   "outputs": [],
   "source": [
    "# important features in pandas: import pandas as pd"
   ]
  },
  {
   "cell_type": "code",
   "execution_count": null,
   "metadata": {},
   "outputs": [],
   "source": [
    "# NumPy is not another programming language but a Python extension module. It provides fast and efficient operations on arrays of homogeneous data. \n",
    "#NumPy extends python into a high-level language for manipulating numerical data, similiar to MATLAB.\n",
    "# "
   ]
  },
  {
   "cell_type": "code",
   "execution_count": null,
   "metadata": {},
   "outputs": [],
   "source": [
    "# NumPy is a package in Python used for Scientific Computing. NumPy package is used to perform different operations. \n",
    "# The ndarray (NumPy Array) is a multidimensional array used to store values of same datatype.\n",
    "#These arrays are indexed just like Sequences, starts with zero."
   ]
  },
  {
   "cell_type": "code",
   "execution_count": null,
   "metadata": {},
   "outputs": [],
   "source": [
    "# What is Pandas? Similar to NumPy, Pandas is one of the most widely used python libraries in data science. \n",
    "#It provides high-performance, easy to use structures and data analysis tools. Unlike NumPy library which provides objects \n",
    "#for multi-dimensional arrays, Pandas provides in-memory 2d table object called Dataframe."
   ]
  },
  {
   "cell_type": "code",
   "execution_count": null,
   "metadata": {},
   "outputs": [],
   "source": [
    "# Pandas DataFrame is two-dimensional size-mutable, potentially heterogeneous tabular data structure with labeled axes (rows and columns).\n",
    "# A Data frame is a two-dimensional data structure, i.e., data is aligned in a tabular fashion in rows and columns.\n",
    "# Pandas DataFrame consists of three principal components, the data, rows, and columns."
   ]
  },
  {
   "cell_type": "code",
   "execution_count": 1,
   "metadata": {},
   "outputs": [
    {
     "name": "stdout",
     "output_type": "stream",
     "text": [
      "        0\n",
      "0    Name\n",
      "1     Age\n",
      "2  Gender\n",
      "3  Height\n",
      "4  Weight\n",
      "5     BMI\n"
     ]
    }
   ],
   "source": [
    "# Creating a DataFrame:\n",
    "# import pandas as pd\n",
    "import pandas as pd\n",
    " \n",
    "# list of strings\n",
    "list = ['Name', 'Age',  'Gender', \n",
    "            'Height', 'Weight', 'BMI']\n",
    " \n",
    "# Calling DataFrame constructor on list\n",
    "df = pd.DataFrame(list)\n",
    "print(df)"
   ]
  },
  {
   "cell_type": "code",
   "execution_count": 2,
   "metadata": {},
   "outputs": [],
   "source": [
    "# Creating DataFrame from dict of ndarray/lists: To create DataFrame from dict of narray/list, \n",
    "# all the narray must be of same length. If index is passed then the length index should be equal to the length of arrays. \n",
    "# If no index is passed, then by default, index will be range(n) where n is the array length."
   ]
  },
  {
   "cell_type": "code",
   "execution_count": 3,
   "metadata": {},
   "outputs": [
    {
     "name": "stdout",
     "output_type": "stream",
     "text": [
      "    Name  Age\n",
      "0    Tom   20\n",
      "1   nick   21\n",
      "2  krish   19\n",
      "3   jack   18\n"
     ]
    }
   ],
   "source": [
    "# Python code demonstrate creating \n",
    "# DataFrame from dict narray / lists \n",
    "# By default addresses.\n",
    " \n",
    "import pandas as pd\n",
    " \n",
    "# intialise data of lists.\n",
    "data = {'Name':['Tom', 'nick', 'krish', 'jack'],\n",
    "        'Age':[20, 21, 19, 18]}\n",
    " \n",
    "# Create DataFrame\n",
    "df = pd.DataFrame(data)\n",
    " \n",
    "# Print the output.\n",
    "print(df)"
   ]
  },
  {
   "cell_type": "code",
   "execution_count": null,
   "metadata": {},
   "outputs": [],
   "source": []
  }
 ],
 "metadata": {
  "kernelspec": {
   "display_name": "Python 3",
   "language": "python",
   "name": "python3"
  },
  "language_info": {
   "codemirror_mode": {
    "name": "ipython",
    "version": 3
   },
   "file_extension": ".py",
   "mimetype": "text/x-python",
   "name": "python",
   "nbconvert_exporter": "python",
   "pygments_lexer": "ipython3",
   "version": "3.7.1"
  }
 },
 "nbformat": 4,
 "nbformat_minor": 2
}
