{
 "cells": [
  {
   "cell_type": "code",
   "execution_count": 16,
   "metadata": {},
   "outputs": [],
   "source": [
    "# What is numpy in Python?   https://www.w3schools.com/python/numpy/numpy_intro.asp\n",
    "\n",
    "# Answer:  NumPy is a Python library used for working with arrays.\n",
    "\n",
    "# It also has functions for working in domain of linear algebra, fourier transform, and matrices.\n",
    "\n",
    "# NumPy was created in 2005 by Travis Oliphant. It is an open source project and you can use it freely.\n",
    "\n",
    "# NumPy stands for Numerical Python.\n",
    "\n",
    "\n",
    "# What is an array?\n",
    "# An array is a common type of data structure wherein all elements must be of the **same data type**,\n",
    "# such as integers or floating point values.\n",
    "\n",
    "# What is the difference between lists and arrays in Python?\n",
    "# Python arrays and lists have the same way of storing data but the key difference between them is that \n",
    "#lists can store **any type of data** whereas arrays store single data type elements.\n",
    "#And because of this difference, other than a few operations like sorting and looping,\n",
    "#operations performed on these data structures are different\n",
    "\n",
    "# The array object in NumPy is called ndarray\n",
    "# NumPy aims to provide an array object that is up to 50x faster than traditional Python lists\n"
   ]
  },
  {
   "cell_type": "code",
   "execution_count": 3,
   "metadata": {},
   "outputs": [],
   "source": [
    "import numpy  as np  # NumPy is usually imported under the np alias.\n"
   ]
  },
  {
   "cell_type": "code",
   "execution_count": 4,
   "metadata": {},
   "outputs": [
    {
     "name": "stdout",
     "output_type": "stream",
     "text": [
      "1.15.4\n"
     ]
    }
   ],
   "source": [
    "print(np.__version__)  #  The version string is stored under __version__ attribute."
   ]
  },
  {
   "cell_type": "code",
   "execution_count": 5,
   "metadata": {},
   "outputs": [],
   "source": [
    "#****1.  Creating numpy array\n",
    "# To create an ndarray, we can pass(cast) a list, tuple or any array-like object into the array() method,\n",
    "#and it will be converted into an ndarray:"
   ]
  },
  {
   "cell_type": "code",
   "execution_count": 6,
   "metadata": {},
   "outputs": [
    {
     "name": "stdout",
     "output_type": "stream",
     "text": [
      "[1 2 3]\n"
     ]
    }
   ],
   "source": [
    "T= ( 1,2,3)  # pass a tuple into the array() method to convert it into an ndarray\n",
    "print(np.array(T))"
   ]
  },
  {
   "cell_type": "code",
   "execution_count": 7,
   "metadata": {},
   "outputs": [
    {
     "data": {
      "text/plain": [
       "numpy.ndarray"
      ]
     },
     "execution_count": 7,
     "metadata": {},
     "output_type": "execute_result"
    }
   ],
   "source": [
    "type(np.array(T))   # type(): This built-in Python function tells us the type of the object passed to it"
   ]
  },
  {
   "cell_type": "code",
   "execution_count": 8,
   "metadata": {},
   "outputs": [],
   "source": [
    "# Dimensions in Arrays: 0, 1,2,3,..n.\n",
    "# A dimension in arrays is one level of array depth (nested arrays).\n",
    "\n",
    "# nested array: are arrays that have arrays as their elements."
   ]
  },
  {
   "cell_type": "code",
   "execution_count": 9,
   "metadata": {},
   "outputs": [
    {
     "name": "stdout",
     "output_type": "stream",
     "text": [
      "0\n",
      "1\n",
      "2\n",
      "3\n"
     ]
    }
   ],
   "source": [
    "a = np.array(42)\n",
    "b = np.array([1, 2, 3, 4, 5])\n",
    "c = np.array([[1, 2, 3], [4, 5, 6]])\n",
    "d = np.array([[[1, 2, 3], [4, 5, 6]], [[1, 2, 3], [4, 5, 6]]])\n",
    "\n",
    "print(a.ndim)     # array.ndim a dimension attribute\n",
    "print(b.ndim)\n",
    "print(c.ndim)\n",
    "print(d.ndim)"
   ]
  },
  {
   "cell_type": "code",
   "execution_count": 10,
   "metadata": {},
   "outputs": [
    {
     "name": "stdout",
     "output_type": "stream",
     "text": [
      "42\n",
      "[1 2 3 4 5]\n",
      "[[1 2 3]\n",
      " [4 5 6]]\n",
      "[[[1 2 3]\n",
      "  [4 5 6]]\n",
      "\n",
      " [[1 2 3]\n",
      "  [4 5 6]]]\n"
     ]
    }
   ],
   "source": [
    "print(a)\n",
    "print(b)\n",
    "print(c)\n",
    "print(d)"
   ]
  },
  {
   "cell_type": "code",
   "execution_count": 11,
   "metadata": {},
   "outputs": [],
   "source": [
    "# ndmin argument could specify the n dimension of an array ( the shape of an array)"
   ]
  },
  {
   "cell_type": "code",
   "execution_count": 12,
   "metadata": {},
   "outputs": [
    {
     "name": "stdout",
     "output_type": "stream",
     "text": [
      "[[[[[1 2 3 4]]]]]\n",
      "number of dimensions : 5\n"
     ]
    }
   ],
   "source": [
    "arr = np.array([1, 2, 3, 4], ndmin=5)  # argumenbt ndim is 5\n",
    "\n",
    "print(arr)\n",
    "print('number of dimensions :', arr.ndim)  # Or you can call \"the shape of the array\": "
   ]
  },
  {
   "cell_type": "code",
   "execution_count": 33,
   "metadata": {},
   "outputs": [
    {
     "name": "stdout",
     "output_type": "stream",
     "text": [
      "<class 'dict'>\n",
      "{'A': 2, 'B': 3, 'C': 4}\n"
     ]
    },
    {
     "data": {
      "text/plain": [
       "numpy.ndarray"
      ]
     },
     "execution_count": 33,
     "metadata": {},
     "output_type": "execute_result"
    }
   ],
   "source": [
    "D= {\"A\": 2, \"B\": 3, \"C\": 4} # pass a dictionary to a numpy array\n",
    "print(type(D))\n",
    "print(np.array(D)) # dictionary is not an array because it dosent contain the \"same data type\": integer or float\n",
    "type(np.array(D))   # check the data type\n"
   ]
  },
  {
   "cell_type": "code",
   "execution_count": 14,
   "metadata": {},
   "outputs": [],
   "source": [
    "# *** 2. Create numpy array: Use some python's own builtin generation methods to actually create\n",
    "\n",
    "# arrays a lot faster and a lot simpler.\n",
    "# ** np.arange(start, stop, step size, dtype=)  3 arguments and dataatype and  return evenly spaced\n",
    "\n",
    "# values within this given interval. similar to the python's builtin function range"
   ]
  },
  {
   "cell_type": "code",
   "execution_count": 15,
   "metadata": {},
   "outputs": [
    {
     "data": {
      "text/plain": [
       "array([1, 2, 3, 4, 5, 6, 7, 8, 9])"
      ]
     },
     "execution_count": 15,
     "metadata": {},
     "output_type": "execute_result"
    }
   ],
   "source": [
    "A = np.arange(1,10)  # Create a one dimension numpy array with numbers from 1 to 9 ( last number is excluded)\n",
    "A"
   ]
  },
  {
   "cell_type": "code",
   "execution_count": 16,
   "metadata": {},
   "outputs": [
    {
     "data": {
      "text/plain": [
       "array([ 0,  5, 10, 15, 20, 25, 30, 35, 40, 45])"
      ]
     },
     "execution_count": 16,
     "metadata": {},
     "output_type": "execute_result"
    }
   ],
   "source": [
    "B= np.arange(0,50,5)  # create a numpy array from 0 to 49 with step number 5\n",
    "B"
   ]
  },
  {
   "cell_type": "code",
   "execution_count": 23,
   "metadata": {},
   "outputs": [
    {
     "data": {
      "text/plain": [
       "array([ 0,  1,  2,  3,  4,  5,  6,  7,  8,  9, 10, 11, 12, 13, 14, 15, 16,\n",
       "       17, 18, 19, 20, 21, 22, 23, 24, 25, 26, 27, 28, 29])"
      ]
     },
     "execution_count": 23,
     "metadata": {},
     "output_type": "execute_result"
    }
   ],
   "source": [
    "C= np.arange( 0, 30) # a range is going to be one of the most useful functions for quickly generating an array\n",
    "C"
   ]
  },
  {
   "cell_type": "code",
   "execution_count": 34,
   "metadata": {},
   "outputs": [
    {
     "data": {
      "text/plain": [
       "array([[ 0,  1,  2,  3,  4,  5],\n",
       "       [ 6,  7,  8,  9, 10, 11],\n",
       "       [12, 13, 14, 15, 16, 17],\n",
       "       [18, 19, 20, 21, 22, 23],\n",
       "       [24, 25, 26, 27, 28, 29]])"
      ]
     },
     "execution_count": 34,
     "metadata": {},
     "output_type": "execute_result"
    }
   ],
   "source": [
    "E= C.reshape(5,6) \n",
    "E\n",
    "# use reshape Reshaping arrays\n",
    "#Reshaping means changing the shape of an array.\n",
    "\n",
    "#The shape of an array is the number of elements in each dimension.\n",
    "\n",
    "# By reshaping we can add or remove dimensions or change number of elements in each dimension.\n",
    "\n"
   ]
  },
  {
   "cell_type": "code",
   "execution_count": null,
   "metadata": {},
   "outputs": [],
   "source": [
    "# ****Creating arrays with pecific types of arrays\n",
    "# np.zeros(shapes)  an array with all zeros as elements\n",
    "# np.ones((2,3))  a 2x3 array with 1 as elements in 2 rows and 3 columns dimension = 6\n",
    "# np.eye((3)) a 3x3 identity array\n",
    "# np.linspace(start, stop,)"
   ]
  },
  {
   "cell_type": "code",
   "execution_count": 48,
   "metadata": {},
   "outputs": [
    {
     "name": "stdout",
     "output_type": "stream",
     "text": [
      "1\n"
     ]
    },
    {
     "data": {
      "text/plain": [
       "array([0., 0., 0., 0., 0.])"
      ]
     },
     "execution_count": 48,
     "metadata": {},
     "output_type": "execute_result"
    }
   ],
   "source": [
    "arr_z= np.zeros(5)\n",
    "\n",
    "print(arr_z.ndim)\n",
    "arr_z"
   ]
  },
  {
   "cell_type": "code",
   "execution_count": 52,
   "metadata": {},
   "outputs": [
    {
     "name": "stdout",
     "output_type": "stream",
     "text": [
      "[[0. 0.]\n",
      " [0. 0.]]\n"
     ]
    },
    {
     "data": {
      "text/plain": [
       "2"
      ]
     },
     "execution_count": 52,
     "metadata": {},
     "output_type": "execute_result"
    }
   ],
   "source": [
    "print(np.zeros((2,2)))  # 2x2 shape\n",
    "np.zeros((2,2)).ndim  # dimension\n"
   ]
  },
  {
   "cell_type": "code",
   "execution_count": 53,
   "metadata": {},
   "outputs": [
    {
     "data": {
      "text/plain": [
       "array([1., 1., 1., 1., 1.])"
      ]
     },
     "execution_count": 53,
     "metadata": {},
     "output_type": "execute_result"
    }
   ],
   "source": [
    "np.ones(5)  # ones array 1 dimesion  shape 1x1"
   ]
  },
  {
   "cell_type": "code",
   "execution_count": 54,
   "metadata": {},
   "outputs": [
    {
     "data": {
      "text/plain": [
       "array([[1., 1., 1.],\n",
       "       [1., 1., 1.]])"
      ]
     },
     "execution_count": 54,
     "metadata": {},
     "output_type": "execute_result"
    }
   ],
   "source": [
    "np.ones((2,3))"
   ]
  },
  {
   "cell_type": "code",
   "execution_count": 55,
   "metadata": {},
   "outputs": [
    {
     "data": {
      "text/plain": [
       "2"
      ]
     },
     "execution_count": 55,
     "metadata": {},
     "output_type": "execute_result"
    }
   ],
   "source": [
    "np.ones((2,3)).ndim # dimensions of the array is 2"
   ]
  },
  {
   "cell_type": "code",
   "execution_count": 56,
   "metadata": {},
   "outputs": [
    {
     "data": {
      "text/plain": [
       "(2, 3)"
      ]
     },
     "execution_count": 56,
     "metadata": {},
     "output_type": "execute_result"
    }
   ],
   "source": [
    "np.ones((2,3)).shape  # shape of the array is 2x3"
   ]
  },
  {
   "cell_type": "code",
   "execution_count": 57,
   "metadata": {},
   "outputs": [
    {
     "data": {
      "text/plain": [
       "numpy.ndarray"
      ]
     },
     "execution_count": 57,
     "metadata": {},
     "output_type": "execute_result"
    }
   ],
   "source": [
    "type(np.ones((2,3)))  # type of the array is numpy ndarray"
   ]
  },
  {
   "cell_type": "code",
   "execution_count": 59,
   "metadata": {},
   "outputs": [
    {
     "data": {
      "text/plain": [
       "array([[1., 0., 0.],\n",
       "       [0., 1., 0.],\n",
       "       [0., 0., 1.]])"
      ]
     },
     "execution_count": 59,
     "metadata": {},
     "output_type": "execute_result"
    }
   ],
   "source": [
    "np.eye(3)  # one argument in the identity function 3x3"
   ]
  },
  {
   "cell_type": "code",
   "execution_count": 61,
   "metadata": {},
   "outputs": [
    {
     "data": {
      "text/plain": [
       "(5, 5)"
      ]
     },
     "execution_count": 61,
     "metadata": {},
     "output_type": "execute_result"
    }
   ],
   "source": [
    "np.eye(5).shape"
   ]
  },
  {
   "cell_type": "code",
   "execution_count": 63,
   "metadata": {},
   "outputs": [
    {
     "data": {
      "text/plain": [
       "2"
      ]
     },
     "execution_count": 63,
     "metadata": {},
     "output_type": "execute_result"
    }
   ],
   "source": [
    "np.eye(2).ndim"
   ]
  },
  {
   "cell_type": "code",
   "execution_count": null,
   "metadata": {},
   "outputs": [],
   "source": [
    "# numpy.linspace(start, stop, num=50, endpoint=True, retstep=False, dtype=None, axis=0)"
   ]
  },
  {
   "cell_type": "code",
   "execution_count": 64,
   "metadata": {},
   "outputs": [
    {
     "data": {
      "text/plain": [
       "array([1.        , 1.08163265, 1.16326531, 1.24489796, 1.32653061,\n",
       "       1.40816327, 1.48979592, 1.57142857, 1.65306122, 1.73469388,\n",
       "       1.81632653, 1.89795918, 1.97959184, 2.06122449, 2.14285714,\n",
       "       2.2244898 , 2.30612245, 2.3877551 , 2.46938776, 2.55102041,\n",
       "       2.63265306, 2.71428571, 2.79591837, 2.87755102, 2.95918367,\n",
       "       3.04081633, 3.12244898, 3.20408163, 3.28571429, 3.36734694,\n",
       "       3.44897959, 3.53061224, 3.6122449 , 3.69387755, 3.7755102 ,\n",
       "       3.85714286, 3.93877551, 4.02040816, 4.10204082, 4.18367347,\n",
       "       4.26530612, 4.34693878, 4.42857143, 4.51020408, 4.59183673,\n",
       "       4.67346939, 4.75510204, 4.83673469, 4.91836735, 5.        ])"
      ]
     },
     "execution_count": 64,
     "metadata": {},
     "output_type": "execute_result"
    }
   ],
   "source": [
    "np.linspace(1,5) # generate any number of array between 1 to 5"
   ]
  },
  {
   "cell_type": "code",
   "execution_count": 65,
   "metadata": {},
   "outputs": [
    {
     "data": {
      "text/plain": [
       "1"
      ]
     },
     "execution_count": 65,
     "metadata": {},
     "output_type": "execute_result"
    }
   ],
   "source": [
    "np.linspace(1,5).ndim"
   ]
  },
  {
   "cell_type": "code",
   "execution_count": 66,
   "metadata": {},
   "outputs": [
    {
     "data": {
      "text/plain": [
       "array([1.        , 1.44444444, 1.88888889, 2.33333333, 2.77777778,\n",
       "       3.22222222, 3.66666667, 4.11111111, 4.55555556, 5.        ])"
      ]
     },
     "execution_count": 66,
     "metadata": {},
     "output_type": "execute_result"
    }
   ],
   "source": [
    "np.linspace(1,5,10)  # 10 of the elements in the array between 1 and 5"
   ]
  },
  {
   "cell_type": "code",
   "execution_count": 69,
   "metadata": {},
   "outputs": [
    {
     "data": {
      "text/plain": [
       "array([1. , 1.4, 1.8, 2.2, 2.6, 3. , 3.4, 3.8, 4.2, 4.6])"
      ]
     },
     "execution_count": 69,
     "metadata": {},
     "output_type": "execute_result"
    }
   ],
   "source": [
    "L=np.linspace(1,5,10, endpoint=False)  # endpoint = 5 is not included\n",
    "L"
   ]
  },
  {
   "cell_type": "code",
   "execution_count": 70,
   "metadata": {},
   "outputs": [
    {
     "data": {
      "text/plain": [
       "array([[1.        , 1.44444444, 1.88888889, 2.33333333, 2.77777778],\n",
       "       [3.22222222, 3.66666667, 4.11111111, 4.55555556, 5.        ]])"
      ]
     },
     "execution_count": 70,
     "metadata": {},
     "output_type": "execute_result"
    }
   ],
   "source": [
    "np.linspace(1,5,10).reshape((2,5))"
   ]
  },
  {
   "cell_type": "code",
   "execution_count": 71,
   "metadata": {},
   "outputs": [
    {
     "name": "stdout",
     "output_type": "stream",
     "text": [
      "Dimensions of a are: 1\n",
      "Shape of a is (10,)\n",
      "Size of a is 10\n"
     ]
    }
   ],
   "source": [
    "# #we can also print the other attributes like dimensions,shape and size of an array\n",
    "print (\"Dimensions of a are:\", L.ndim)\n",
    "print (\"Shape of a is\", L.shape)\n",
    "print (\"Size of a is\", L.size)"
   ]
  },
  {
   "cell_type": "code",
   "execution_count": 72,
   "metadata": {},
   "outputs": [
    {
     "data": {
      "text/plain": [
       "array([[1., 1., 1.],\n",
       "       [1., 1., 1.]])"
      ]
     },
     "execution_count": 72,
     "metadata": {},
     "output_type": "execute_result"
    }
   ],
   "source": [
    "# Creating an Empty Array using empty_like Function\n",
    "# np.empty() creates an array with random values\n",
    "np.empty((2,3))"
   ]
  },
  {
   "cell_type": "code",
   "execution_count": 76,
   "metadata": {},
   "outputs": [
    {
     "data": {
      "text/plain": [
       "array([[2.12199579e-314, 6.36598737e-314, 1.06099790e-313,\n",
       "        1.48539705e-313, 1.90979621e-313],\n",
       "       [2.33419537e-313, 2.75859453e-313, 3.18299369e-313,\n",
       "        3.60739285e-313, 4.03179200e-313],\n",
       "       [4.45619116e-313, 4.88059032e-313, 5.30498948e-313,\n",
       "        5.72938864e-313, 6.15378780e-313]])"
      ]
     },
     "execution_count": 76,
     "metadata": {},
     "output_type": "execute_result"
    }
   ],
   "source": [
    "Empty_arr=np.empty([3,5])\n",
    "Empty_arr"
   ]
  },
  {
   "cell_type": "code",
   "execution_count": 77,
   "metadata": {},
   "outputs": [
    {
     "name": "stdout",
     "output_type": "stream",
     "text": [
      "Dimensions of a are: 2\n",
      "Shape of a is (3, 5)\n",
      "Size of a is 15\n"
     ]
    }
   ],
   "source": [
    "print (\"Dimensions of a are:\", Empty_arr.ndim)\n",
    "print (\"Shape of a is\", Empty_arr.shape)\n",
    "print (\"Size of a is\", Empty_arr.size)"
   ]
  },
  {
   "cell_type": "code",
   "execution_count": null,
   "metadata": {},
   "outputs": [],
   "source": [
    "# ***4. Create an array with random number of normal distribution from 0 to 1, excludes 1\n",
    "# np.random.rand(5) # one dimensional\n",
    "# random.rand(d0, d1, ..., dn), do, d1...denotes  dimension 0, 1,2 and so on \n",
    "# Create an array of the given shape and populate it with random samples from a uniform distribution over [0, 1).\n",
    "\n",
    "#Parameters\n",
    "#d0, d1, …, dnint, optional\n",
    "#The dimensions of the returned array, must be non-negative. If no argument is given a single Python float is returned.\n",
    "\n",
    "#Returns outndarray, shape (d0, d1, ..., dn) Random values."
   ]
  },
  {
   "cell_type": "code",
   "execution_count": null,
   "metadata": {},
   "outputs": [],
   "source": [
    "# ***The random module's np.random.rand() method returns a random float between 0 and 1."
   ]
  },
  {
   "cell_type": "code",
   "execution_count": 78,
   "metadata": {},
   "outputs": [
    {
     "data": {
      "text/plain": [
       "array([0.60555554, 0.68544551, 0.22471954, 0.37563266, 0.05550229])"
      ]
     },
     "execution_count": 78,
     "metadata": {},
     "output_type": "execute_result"
    }
   ],
   "source": [
    " np.random.rand(5) # dimension 0 with random numbers 5"
   ]
  },
  {
   "cell_type": "code",
   "execution_count": 79,
   "metadata": {},
   "outputs": [
    {
     "data": {
      "text/plain": [
       "array([0.00633183, 0.44608817, 0.09246434, 0.15410228, 0.95761217])"
      ]
     },
     "execution_count": 79,
     "metadata": {},
     "output_type": "execute_result"
    }
   ],
   "source": [
    " np.random.rand(5)"
   ]
  },
  {
   "cell_type": "code",
   "execution_count": 80,
   "metadata": {},
   "outputs": [
    {
     "data": {
      "text/plain": [
       "array([0.29586566, 0.80719549, 0.34600593, 0.46287725, 0.3308647 ])"
      ]
     },
     "execution_count": 80,
     "metadata": {},
     "output_type": "execute_result"
    }
   ],
   "source": [
    " np.random.rand(5)"
   ]
  },
  {
   "cell_type": "code",
   "execution_count": null,
   "metadata": {},
   "outputs": [],
   "source": [
    "# Each time when you run  np.random.rand(5) it will give you a different array of 5 elements between 0 and 1 , 1 excluded"
   ]
  },
  {
   "cell_type": "code",
   "execution_count": 85,
   "metadata": {},
   "outputs": [
    {
     "data": {
      "text/plain": [
       "array([[0.64728281, 0.027296  , 0.78069453, 0.86660157, 0.37927562,\n",
       "        0.80452672, 0.56381252, 0.72371908, 0.63611694, 0.92092304],\n",
       "       [0.99702346, 0.55512033, 0.75424574, 0.84774588, 0.44141884,\n",
       "        0.58526852, 0.40383616, 0.94766394, 0.92469007, 0.21583846]])"
      ]
     },
     "execution_count": 85,
     "metadata": {},
     "output_type": "execute_result"
    }
   ],
   "source": [
    "Rand_arr =np.random.rand(2, 10) # 2x10 dimensional array with 10 numbers  between 0 and 1\n",
    "Rand_arr"
   ]
  },
  {
   "cell_type": "code",
   "execution_count": 86,
   "metadata": {},
   "outputs": [
    {
     "name": "stdout",
     "output_type": "stream",
     "text": [
      "Dimensions of a are: 2\n",
      "Shape of a is (2, 10)\n",
      "Size of a is 20\n"
     ]
    }
   ],
   "source": [
    "print (\"Dimensions of a are:\", Rand_arr.ndim)\n",
    "print (\"Shape of a is\", Rand_arr.shape)\n",
    "print (\"Size of a is\", Rand_arr.size)"
   ]
  },
  {
   "cell_type": "code",
   "execution_count": 88,
   "metadata": {},
   "outputs": [
    {
     "data": {
      "text/plain": [
       "array([[[0.46946294, 0.04097358, 0.50680646, 0.3299735 , 0.0272092 ],\n",
       "        [0.02864293, 0.93137537, 0.42103995, 0.9626721 , 0.90591274],\n",
       "        [0.49565024, 0.4530234 , 0.86433521, 0.06571435, 0.58729417]],\n",
       "\n",
       "       [[0.66695402, 0.68921693, 0.19014806, 0.84258494, 0.678254  ],\n",
       "        [0.22820988, 0.32734721, 0.68882011, 0.28618375, 0.66453581],\n",
       "        [0.54994026, 0.31827055, 0.54546603, 0.15382575, 0.24422076]]])"
      ]
     },
     "execution_count": 88,
     "metadata": {},
     "output_type": "execute_result"
    }
   ],
   "source": [
    "Rand_arr1=np.random.rand(2, 3,5) # 2 x3x5\n",
    "Rand_arr1"
   ]
  },
  {
   "cell_type": "code",
   "execution_count": 89,
   "metadata": {},
   "outputs": [
    {
     "name": "stdout",
     "output_type": "stream",
     "text": [
      "Dimensions of a are: 3\n",
      "Shape of a is (2, 3, 5)\n",
      "Size of a is 30\n"
     ]
    }
   ],
   "source": [
    "print (\"Dimensions of a are:\", Rand_arr1.ndim)\n",
    "print (\"Shape of a is\", Rand_arr1.shape)\n",
    "print (\"Size of a is\", Rand_arr1.size)"
   ]
  },
  {
   "cell_type": "code",
   "execution_count": 90,
   "metadata": {},
   "outputs": [
    {
     "data": {
      "text/plain": [
       "array([[[[0.4353628 , 0.18911564, 0.14940136, 0.90877959],\n",
       "         [0.42443005, 0.42097747, 0.7948502 , 0.54690651],\n",
       "         [0.95378901, 0.09699627, 0.19997487, 0.92476504],\n",
       "         [0.37532291, 0.11857171, 0.9336332 , 0.33955927],\n",
       "         [0.63276793, 0.08771963, 0.6188693 , 0.47812951]],\n",
       "\n",
       "        [[0.84738559, 0.01170842, 0.11645009, 0.41478797],\n",
       "         [0.98702858, 0.84357922, 0.10206353, 0.2235016 ],\n",
       "         [0.12219116, 0.9429809 , 0.37683033, 0.53992092],\n",
       "         [0.6489942 , 0.23628226, 0.92981968, 0.07475976],\n",
       "         [0.51848761, 0.72327331, 0.16605242, 0.24065648]],\n",
       "\n",
       "        [[0.5270125 , 0.03855447, 0.82952914, 0.77857033],\n",
       "         [0.18134829, 0.79942984, 0.18316608, 0.2423024 ],\n",
       "         [0.79510374, 0.60493944, 0.23981377, 0.14400941],\n",
       "         [0.88415091, 0.37330848, 0.20313103, 0.24901192],\n",
       "         [0.22559612, 0.23213603, 0.45797371, 0.5979415 ]]],\n",
       "\n",
       "\n",
       "       [[[0.13652156, 0.53348084, 0.93995719, 0.29196123],\n",
       "         [0.44973465, 0.47928741, 0.94597809, 0.61704751],\n",
       "         [0.54630577, 0.39960499, 0.61042014, 0.12070053],\n",
       "         [0.51289688, 0.26435244, 0.35813261, 0.86691819],\n",
       "         [0.39381959, 0.75106745, 0.03960417, 0.10783819]],\n",
       "\n",
       "        [[0.15093077, 0.39691106, 0.49921634, 0.2274979 ],\n",
       "         [0.33989927, 0.54153304, 0.45087507, 0.45324964],\n",
       "         [0.93013384, 0.8021783 , 0.47620623, 0.962433  ],\n",
       "         [0.37176469, 0.46926772, 0.05903812, 0.40011007],\n",
       "         [0.66584873, 0.17380166, 0.14891658, 0.509214  ]],\n",
       "\n",
       "        [[0.19807647, 0.75028177, 0.23729882, 0.21879816],\n",
       "         [0.96068647, 0.00899445, 0.75859662, 0.92744002],\n",
       "         [0.32111123, 0.26910288, 0.56063312, 0.13310617],\n",
       "         [0.80324492, 0.60524845, 0.45645777, 0.7870806 ],\n",
       "         [0.10257638, 0.81462348, 0.61017663, 0.69490637]]]])"
      ]
     },
     "execution_count": 90,
     "metadata": {},
     "output_type": "execute_result"
    }
   ],
   "source": [
    "Rand_arr2=np.random.rand(2, 3,5,4)\n",
    "Rand_arr2"
   ]
  },
  {
   "cell_type": "code",
   "execution_count": 91,
   "metadata": {},
   "outputs": [
    {
     "name": "stdout",
     "output_type": "stream",
     "text": [
      "Dimensions of a are: 4\n",
      "Shape of a is (2, 3, 5, 4)\n",
      "Size of a is 120\n"
     ]
    }
   ],
   "source": [
    "print (\"Dimensions of a are:\", Rand_arr2.ndim)\n",
    "print (\"Shape of a is\", Rand_arr2.shape)\n",
    "print (\"Size of a is\", Rand_arr2.size)"
   ]
  },
  {
   "cell_type": "code",
   "execution_count": null,
   "metadata": {},
   "outputs": [],
   "source": [
    "# np.random.randn()\n",
    "#random.randn(d0, d1, ..., dn)\n",
    "#Return a sample (or samples) from the “standard normal” distribution.\n",
    "#Parameters\n",
    "#d0, d1, …, dnint, optional\n",
    "#The dimensions of the returned array, must be non-negative. \n",
    "#If no argument is given a single Python float is returned.\n",
    "\n",
    "#Returns\n",
    "#ndarray or float\n",
    "# A (d0, d1, ..., dn)-shaped array of floating-point samples from the standard normal distribution, \n",
    "#or a single such float if no parameters were supplied.\n",
    "\n",
    "#Note:  randn generates an array of shape (d0, d1, ..., dn), \n",
    "#filled with random floats sampled from a univariate “normal” (Gaussian) distribution of mean 0 and variance 1"
   ]
  },
  {
   "cell_type": "code",
   "execution_count": 92,
   "metadata": {},
   "outputs": [
    {
     "data": {
      "text/plain": [
       "-0.11564115014063812"
      ]
     },
     "execution_count": 92,
     "metadata": {},
     "output_type": "execute_result"
    }
   ],
   "source": [
    "# Example:\n",
    "np.random.randn()"
   ]
  },
  {
   "cell_type": "code",
   "execution_count": 93,
   "metadata": {},
   "outputs": [
    {
     "data": {
      "text/plain": [
       "array([ 0.54657395, -1.45001799])"
      ]
     },
     "execution_count": 93,
     "metadata": {},
     "output_type": "execute_result"
    }
   ],
   "source": [
    "np.random.randn(2)"
   ]
  },
  {
   "cell_type": "code",
   "execution_count": 94,
   "metadata": {},
   "outputs": [
    {
     "data": {
      "text/plain": [
       "array([[[ 2.68440165, -1.23745532, -0.81526339, -1.08426572],\n",
       "        [ 0.77363662,  0.59023776, -0.17138664, -1.77800118],\n",
       "        [-1.3170528 ,  0.07665084, -0.74645454,  0.24311972]],\n",
       "\n",
       "       [[-0.90835442, -0.63310693,  0.3701049 ,  0.57529729],\n",
       "        [-1.88299385,  0.55243506,  0.14061614,  0.95661352],\n",
       "        [-0.6906565 , -0.1913332 , -1.27942191, -0.71299463]]])"
      ]
     },
     "execution_count": 94,
     "metadata": {},
     "output_type": "execute_result"
    }
   ],
   "source": [
    "np.random.randn(2,3,4)"
   ]
  },
  {
   "cell_type": "code",
   "execution_count": null,
   "metadata": {},
   "outputs": [],
   "source": [
    "# The np.random.randint(num,size=) method takes a size parameter where you can specify the shape of an array."
   ]
  },
  {
   "cell_type": "code",
   "execution_count": 108,
   "metadata": {},
   "outputs": [
    {
     "data": {
      "text/plain": [
       "array([[5, 5],\n",
       "       [2, 3]])"
      ]
     },
     "execution_count": 108,
     "metadata": {},
     "output_type": "execute_result"
    }
   ],
   "source": [
    "Randint_arr=np.random.randint(10,size=(2,2)) # generate any 10 numbers of size 2x2\n",
    "Randint_arr"
   ]
  },
  {
   "cell_type": "code",
   "execution_count": 109,
   "metadata": {},
   "outputs": [
    {
     "name": "stdout",
     "output_type": "stream",
     "text": [
      "Dimensions of a are: 2\n",
      "Shape of a is (2, 2)\n",
      "Size of a is 4\n"
     ]
    }
   ],
   "source": [
    "print (\"Dimensions of a are:\", Randint_arr.ndim)\n",
    "print (\"Shape of a is\", Randint_arr.shape)\n",
    "print (\"Size of a is\", Randint_arr.size)"
   ]
  },
  {
   "cell_type": "code",
   "execution_count": 110,
   "metadata": {},
   "outputs": [
    {
     "data": {
      "text/plain": [
       "array([[[ 2, 19],\n",
       "        [16, 14],\n",
       "        [ 7,  1]],\n",
       "\n",
       "       [[16, 16],\n",
       "        [16, 13],\n",
       "        [ 3,  5]]])"
      ]
     },
     "execution_count": 110,
     "metadata": {},
     "output_type": "execute_result"
    }
   ],
   "source": [
    "Randint_arr1=np.random.randint(20, size=(2,3,2))\n",
    "Randint_arr1"
   ]
  },
  {
   "cell_type": "code",
   "execution_count": 111,
   "metadata": {},
   "outputs": [
    {
     "name": "stdout",
     "output_type": "stream",
     "text": [
      "Dimensions of a are: 3\n",
      "Shape of a is (2, 3, 2)\n",
      "Size of a is 12\n"
     ]
    }
   ],
   "source": [
    "print (\"Dimensions of a are:\", Randint_arr1.ndim)\n",
    "print (\"Shape of a is\", Randint_arr1.shape)\n",
    "print (\"Size of a is\", Randint_arr1.size)"
   ]
  },
  {
   "cell_type": "code",
   "execution_count": 112,
   "metadata": {},
   "outputs": [
    {
     "data": {
      "text/plain": [
       "41"
      ]
     },
     "execution_count": 112,
     "metadata": {},
     "output_type": "execute_result"
    }
   ],
   "source": [
    "np.random.randint(50) # return one number of the range up to 50"
   ]
  },
  {
   "cell_type": "code",
   "execution_count": 113,
   "metadata": {},
   "outputs": [
    {
     "data": {
      "text/plain": [
       "array([ 0,  1,  2,  3,  4,  5,  6,  7,  8,  9, 10, 11, 12, 13, 14, 15, 16,\n",
       "       17, 18, 19, 20, 21, 22, 23, 24, 25, 26, 27, 28, 29, 30, 31, 32, 33,\n",
       "       34, 35, 36, 37, 38, 39, 40, 41, 42, 43, 44, 45, 46, 47, 48, 49])"
      ]
     },
     "execution_count": 113,
     "metadata": {},
     "output_type": "execute_result"
    }
   ],
   "source": [
    "np.arange(50) # return 50 numbers up to 50"
   ]
  },
  {
   "cell_type": "code",
   "execution_count": 116,
   "metadata": {},
   "outputs": [
    {
     "data": {
      "text/plain": [
       "array([], dtype=int32)"
      ]
     },
     "execution_count": 116,
     "metadata": {},
     "output_type": "execute_result"
    }
   ],
   "source": [
    "np.arange(50)"
   ]
  },
  {
   "cell_type": "code",
   "execution_count": 118,
   "metadata": {},
   "outputs": [
    {
     "data": {
      "text/plain": [
       "array([[3, 2, 2],\n",
       "       [2, 2, 3]])"
      ]
     },
     "execution_count": 118,
     "metadata": {},
     "output_type": "execute_result"
    }
   ],
   "source": [
    "np.random.choice([1,2,3,4],size=(2,3))\n",
    "# the choice method generates a ramdom array with one number/numbers\n",
    "# out of the given list with the given size"
   ]
  },
  {
   "cell_type": "code",
   "execution_count": 121,
   "metadata": {},
   "outputs": [
    {
     "data": {
      "text/plain": [
       "array([[20, 14],\n",
       "       [21, 26]])"
      ]
     },
     "execution_count": 121,
     "metadata": {},
     "output_type": "execute_result"
    }
   ],
   "source": [
    "np.random.choice(30, size=(2,2)) # return a random number/or array from 0 to 30 similar to randint method"
   ]
  },
  {
   "cell_type": "code",
   "execution_count": 122,
   "metadata": {},
   "outputs": [
    {
     "data": {
      "text/plain": [
       "array([[22,  4],\n",
       "       [ 2, 10]])"
      ]
     },
     "execution_count": 122,
     "metadata": {},
     "output_type": "execute_result"
    }
   ],
   "source": [
    "np.random.randint(30, size=(2,2)) # return a random array from 0 to 30 with size =(2,2)"
   ]
  },
  {
   "cell_type": "code",
   "execution_count": null,
   "metadata": {},
   "outputs": [],
   "source": []
  }
 ],
 "metadata": {
  "kernelspec": {
   "display_name": "Python 3",
   "language": "python",
   "name": "python3"
  },
  "language_info": {
   "codemirror_mode": {
    "name": "ipython",
    "version": 3
   },
   "file_extension": ".py",
   "mimetype": "text/x-python",
   "name": "python",
   "nbconvert_exporter": "python",
   "pygments_lexer": "ipython3",
   "version": "3.7.1"
  }
 },
 "nbformat": 4,
 "nbformat_minor": 2
}
