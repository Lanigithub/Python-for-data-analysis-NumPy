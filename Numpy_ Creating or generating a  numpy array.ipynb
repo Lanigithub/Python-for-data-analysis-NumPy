{
 "cells": [
  {
   "cell_type": "code",
   "execution_count": 16,
   "metadata": {},
   "outputs": [],
   "source": [
    "# What is numpy in Python?   https://www.w3schools.com/python/numpy/numpy_intro.asp\n",
    "\n",
    "# Answer:  NumPy is a Python library used for working with arrays.\n",
    "\n",
    "# It also has functions for working in domain of linear algebra, fourier transform, and matrices.\n",
    "\n",
    "# NumPy was created in 2005 by Travis Oliphant. It is an open source project and you can use it freely.\n",
    "\n",
    "# NumPy stands for Numerical Python.\n",
    "\n",
    "\n",
    "# What is an array?\n",
    "# An array is a common type of data structure wherein all elements must be of the **same data type**,\n",
    "# such as integers or floating point values.\n",
    "\n",
    "# What is the difference between lists and arrays in Python?\n",
    "# Python arrays and lists have the same way of storing data but the key difference between them is that \n",
    "#lists can store **any type of data** whereas arrays store single data type elements.\n",
    "#And because of this difference, other than a few operations like sorting and looping,\n",
    "#operations performed on these data structures are different\n",
    "\n",
    "# The array object in NumPy is called ndarray\n",
    "# NumPy aims to provide an array object that is up to 50x faster than traditional Python lists\n"
   ]
  },
  {
   "cell_type": "code",
   "execution_count": 2,
   "metadata": {},
   "outputs": [],
   "source": [
    "import numpy  as np  # NumPy is usually imported under the np alias.\n"
   ]
  },
  {
   "cell_type": "code",
   "execution_count": 3,
   "metadata": {},
   "outputs": [
    {
     "name": "stdout",
     "output_type": "stream",
     "text": [
      "1.15.4\n"
     ]
    }
   ],
   "source": [
    "print(np.__version__)  #  The version string is stored under __version__ attribute."
   ]
  },
  {
   "cell_type": "code",
   "execution_count": 4,
   "metadata": {},
   "outputs": [],
   "source": [
    "#****1.  Creating numpy array\n",
    "# To create an ndarray, we can pass(cast) a list, tuple or any array-like object into the array() method,\n",
    "#and it will be converted into an ndarray:"
   ]
  },
  {
   "cell_type": "code",
   "execution_count": 5,
   "metadata": {},
   "outputs": [
    {
     "name": "stdout",
     "output_type": "stream",
     "text": [
      "[1 2 3]\n"
     ]
    }
   ],
   "source": [
    "T= ( 1,2,3)  # pass a tuple into the array() method to convert it into an ndarray\n",
    "print(np.array(T))"
   ]
  },
  {
   "cell_type": "code",
   "execution_count": 6,
   "metadata": {},
   "outputs": [
    {
     "data": {
      "text/plain": [
       "numpy.ndarray"
      ]
     },
     "execution_count": 6,
     "metadata": {},
     "output_type": "execute_result"
    }
   ],
   "source": [
    "type(np.array(T))   # type(): This built-in Python function tells us the type of the object passed to it"
   ]
  },
  {
   "cell_type": "code",
   "execution_count": 7,
   "metadata": {},
   "outputs": [],
   "source": [
    "# Dimensions in Arrays: 0, 1,2,3,..n.\n",
    "# A dimension in arrays is one level of array depth (nested arrays).\n",
    "\n",
    "# nested array: are arrays that have arrays as their elements."
   ]
  },
  {
   "cell_type": "code",
   "execution_count": 8,
   "metadata": {},
   "outputs": [
    {
     "name": "stdout",
     "output_type": "stream",
     "text": [
      "0\n",
      "1\n",
      "2\n",
      "3\n"
     ]
    }
   ],
   "source": [
    "a = np.array(42)\n",
    "b = np.array([1, 2, 3, 4, 5])\n",
    "c = np.array([[1, 2, 3], [4, 5, 6]])\n",
    "d = np.array([[[1, 2, 3], [4, 5, 6]], [[1, 2, 3], [4, 5, 6]]])\n",
    "\n",
    "print(a.ndim)     # array.ndim a dimension attribute\n",
    "print(b.ndim)\n",
    "print(c.ndim)\n",
    "print(d.ndim)"
   ]
  },
  {
   "cell_type": "code",
   "execution_count": 9,
   "metadata": {},
   "outputs": [
    {
     "name": "stdout",
     "output_type": "stream",
     "text": [
      "42\n",
      "[1 2 3 4 5]\n",
      "[[1 2 3]\n",
      " [4 5 6]]\n",
      "[[[1 2 3]\n",
      "  [4 5 6]]\n",
      "\n",
      " [[1 2 3]\n",
      "  [4 5 6]]]\n"
     ]
    }
   ],
   "source": [
    "print(a)\n",
    "print(b)\n",
    "print(c)\n",
    "print(d)"
   ]
  },
  {
   "cell_type": "code",
   "execution_count": 10,
   "metadata": {},
   "outputs": [],
   "source": [
    "# ndmin argument could specify the n dimension of an array ( the shape of an array)"
   ]
  },
  {
   "cell_type": "code",
   "execution_count": 11,
   "metadata": {},
   "outputs": [
    {
     "name": "stdout",
     "output_type": "stream",
     "text": [
      "[[[[[1 2 3 4]]]]]\n",
      "number of dimensions : 5\n"
     ]
    }
   ],
   "source": [
    "arr = np.array([1, 2, 3, 4], ndmin=5)  # argumenbt ndim is 5\n",
    "\n",
    "print(arr)\n",
    "print('number of dimensions :', arr.ndim)  # Or you can call \"the shape of the array\": "
   ]
  },
  {
   "cell_type": "code",
   "execution_count": 12,
   "metadata": {},
   "outputs": [
    {
     "name": "stdout",
     "output_type": "stream",
     "text": [
      "<class 'dict'>\n",
      "{'A': 2, 'B': 3, 'C': 4}\n"
     ]
    },
    {
     "data": {
      "text/plain": [
       "numpy.ndarray"
      ]
     },
     "execution_count": 12,
     "metadata": {},
     "output_type": "execute_result"
    }
   ],
   "source": [
    "D= {\"A\": 2, \"B\": 3, \"C\": 4} # pass a dictionary to a numpy array\n",
    "print(type(D))\n",
    "print(np.array(D)) # dictionary is not an array because it dosent contain the \"same data type\": integer or float\n",
    "type(np.array(D))   # check the data type\n"
   ]
  },
  {
   "cell_type": "code",
   "execution_count": 13,
   "metadata": {},
   "outputs": [],
   "source": [
    "# *** 2. Create numpy array: Use some python's own builtin generation methods to actually create\n",
    "\n",
    "# arrays a lot faster and a lot simpler.\n",
    "# ** np.arange(start, stop, step size, dtype=)  3 arguments and dataatype and  return evenly spaced\n",
    "\n",
    "# values within this given interval. similar to the python's builtin function range"
   ]
  },
  {
   "cell_type": "code",
   "execution_count": 14,
   "metadata": {},
   "outputs": [
    {
     "data": {
      "text/plain": [
       "array([1, 2, 3, 4, 5, 6, 7, 8, 9])"
      ]
     },
     "execution_count": 14,
     "metadata": {},
     "output_type": "execute_result"
    }
   ],
   "source": [
    "A = np.arange(1,10)  # Create a one dimension numpy array with numbers from 1 to 9 ( last number is excluded)\n",
    "A"
   ]
  },
  {
   "cell_type": "code",
   "execution_count": 15,
   "metadata": {},
   "outputs": [
    {
     "data": {
      "text/plain": [
       "array([ 0,  5, 10, 15, 20, 25, 30, 35, 40, 45])"
      ]
     },
     "execution_count": 15,
     "metadata": {},
     "output_type": "execute_result"
    }
   ],
   "source": [
    "B= np.arange(0,50,5)  # create a numpy array from 0 to 49 with step number 5\n",
    "B"
   ]
  },
  {
   "cell_type": "code",
   "execution_count": 16,
   "metadata": {},
   "outputs": [
    {
     "data": {
      "text/plain": [
       "array([ 0,  1,  2,  3,  4,  5,  6,  7,  8,  9, 10, 11, 12, 13, 14, 15, 16,\n",
       "       17, 18, 19, 20, 21, 22, 23, 24, 25, 26, 27, 28, 29])"
      ]
     },
     "execution_count": 16,
     "metadata": {},
     "output_type": "execute_result"
    }
   ],
   "source": [
    "C= np.arange( 0, 30) # a range is going to be one of the most useful functions for quickly generating an array\n",
    "C"
   ]
  },
  {
   "cell_type": "code",
   "execution_count": 17,
   "metadata": {},
   "outputs": [
    {
     "data": {
      "text/plain": [
       "array([[ 0,  1,  2,  3,  4,  5],\n",
       "       [ 6,  7,  8,  9, 10, 11],\n",
       "       [12, 13, 14, 15, 16, 17],\n",
       "       [18, 19, 20, 21, 22, 23],\n",
       "       [24, 25, 26, 27, 28, 29]])"
      ]
     },
     "execution_count": 17,
     "metadata": {},
     "output_type": "execute_result"
    }
   ],
   "source": [
    "E= C.reshape(5,6) \n",
    "E\n",
    "# use reshape Reshaping arrays\n",
    "#Reshaping means changing the shape of an array.\n",
    "\n",
    "#The shape of an array is the number of elements in each dimension.\n",
    "\n",
    "# By reshaping we can add or remove dimensions or change number of elements in each dimension.\n",
    "\n"
   ]
  },
  {
   "cell_type": "code",
   "execution_count": 18,
   "metadata": {},
   "outputs": [],
   "source": [
    "# ****Creating arrays with pecific types of arrays\n",
    "# np.zeros(shapes)  an array with all zeros as elements\n",
    "# np.ones((2,3))  a 2x3 array with 1 as elements in 2 rows and 3 columns dimension = 6\n",
    "# np.eye((3)) a 3x3 identity array\n",
    "# np.linspace(start, stop,)"
   ]
  },
  {
   "cell_type": "code",
   "execution_count": 19,
   "metadata": {},
   "outputs": [
    {
     "name": "stdout",
     "output_type": "stream",
     "text": [
      "1\n"
     ]
    },
    {
     "data": {
      "text/plain": [
       "array([0., 0., 0., 0., 0.])"
      ]
     },
     "execution_count": 19,
     "metadata": {},
     "output_type": "execute_result"
    }
   ],
   "source": [
    "arr_z= np.zeros(5)\n",
    "\n",
    "print(arr_z.ndim)\n",
    "arr_z"
   ]
  },
  {
   "cell_type": "code",
   "execution_count": 20,
   "metadata": {},
   "outputs": [
    {
     "name": "stdout",
     "output_type": "stream",
     "text": [
      "[[0. 0.]\n",
      " [0. 0.]]\n"
     ]
    },
    {
     "data": {
      "text/plain": [
       "2"
      ]
     },
     "execution_count": 20,
     "metadata": {},
     "output_type": "execute_result"
    }
   ],
   "source": [
    "print(np.zeros((2,2)))  # 2x2 shape\n",
    "np.zeros((2,2)).ndim  # dimension\n"
   ]
  },
  {
   "cell_type": "code",
   "execution_count": 21,
   "metadata": {},
   "outputs": [
    {
     "data": {
      "text/plain": [
       "array([1., 1., 1., 1., 1.])"
      ]
     },
     "execution_count": 21,
     "metadata": {},
     "output_type": "execute_result"
    }
   ],
   "source": [
    "np.ones(5)  # ones array 1 dimesion  shape 1x1"
   ]
  },
  {
   "cell_type": "code",
   "execution_count": 22,
   "metadata": {},
   "outputs": [
    {
     "data": {
      "text/plain": [
       "array([[1., 1., 1.],\n",
       "       [1., 1., 1.]])"
      ]
     },
     "execution_count": 22,
     "metadata": {},
     "output_type": "execute_result"
    }
   ],
   "source": [
    "np.ones((2,3))"
   ]
  },
  {
   "cell_type": "code",
   "execution_count": 23,
   "metadata": {},
   "outputs": [
    {
     "data": {
      "text/plain": [
       "2"
      ]
     },
     "execution_count": 23,
     "metadata": {},
     "output_type": "execute_result"
    }
   ],
   "source": [
    "np.ones((2,3)).ndim # dimensions of the array is 2"
   ]
  },
  {
   "cell_type": "code",
   "execution_count": 24,
   "metadata": {},
   "outputs": [
    {
     "data": {
      "text/plain": [
       "(2, 3)"
      ]
     },
     "execution_count": 24,
     "metadata": {},
     "output_type": "execute_result"
    }
   ],
   "source": [
    "np.ones((2,3)).shape  # shape of the array is 2x3"
   ]
  },
  {
   "cell_type": "code",
   "execution_count": 25,
   "metadata": {},
   "outputs": [
    {
     "data": {
      "text/plain": [
       "numpy.ndarray"
      ]
     },
     "execution_count": 25,
     "metadata": {},
     "output_type": "execute_result"
    }
   ],
   "source": [
    "type(np.ones((2,3)))  # type of the array is numpy ndarray"
   ]
  },
  {
   "cell_type": "code",
   "execution_count": 26,
   "metadata": {},
   "outputs": [
    {
     "data": {
      "text/plain": [
       "array([[1., 0., 0.],\n",
       "       [0., 1., 0.],\n",
       "       [0., 0., 1.]])"
      ]
     },
     "execution_count": 26,
     "metadata": {},
     "output_type": "execute_result"
    }
   ],
   "source": [
    "np.eye(3)  # one argument in the identity function 3x3"
   ]
  },
  {
   "cell_type": "code",
   "execution_count": 27,
   "metadata": {},
   "outputs": [
    {
     "data": {
      "text/plain": [
       "(5, 5)"
      ]
     },
     "execution_count": 27,
     "metadata": {},
     "output_type": "execute_result"
    }
   ],
   "source": [
    "np.eye(5).shape"
   ]
  },
  {
   "cell_type": "code",
   "execution_count": 28,
   "metadata": {},
   "outputs": [
    {
     "data": {
      "text/plain": [
       "2"
      ]
     },
     "execution_count": 28,
     "metadata": {},
     "output_type": "execute_result"
    }
   ],
   "source": [
    "np.eye(2).ndim"
   ]
  },
  {
   "cell_type": "code",
   "execution_count": 29,
   "metadata": {},
   "outputs": [],
   "source": [
    "# numpy.linspace(start, stop, num=50, endpoint=True, retstep=False, dtype=None, axis=0)"
   ]
  },
  {
   "cell_type": "code",
   "execution_count": 30,
   "metadata": {},
   "outputs": [
    {
     "data": {
      "text/plain": [
       "array([1.        , 1.08163265, 1.16326531, 1.24489796, 1.32653061,\n",
       "       1.40816327, 1.48979592, 1.57142857, 1.65306122, 1.73469388,\n",
       "       1.81632653, 1.89795918, 1.97959184, 2.06122449, 2.14285714,\n",
       "       2.2244898 , 2.30612245, 2.3877551 , 2.46938776, 2.55102041,\n",
       "       2.63265306, 2.71428571, 2.79591837, 2.87755102, 2.95918367,\n",
       "       3.04081633, 3.12244898, 3.20408163, 3.28571429, 3.36734694,\n",
       "       3.44897959, 3.53061224, 3.6122449 , 3.69387755, 3.7755102 ,\n",
       "       3.85714286, 3.93877551, 4.02040816, 4.10204082, 4.18367347,\n",
       "       4.26530612, 4.34693878, 4.42857143, 4.51020408, 4.59183673,\n",
       "       4.67346939, 4.75510204, 4.83673469, 4.91836735, 5.        ])"
      ]
     },
     "execution_count": 30,
     "metadata": {},
     "output_type": "execute_result"
    }
   ],
   "source": [
    "np.linspace(1,5) # generate any number of array between 1 to 5"
   ]
  },
  {
   "cell_type": "code",
   "execution_count": 31,
   "metadata": {},
   "outputs": [
    {
     "data": {
      "text/plain": [
       "1"
      ]
     },
     "execution_count": 31,
     "metadata": {},
     "output_type": "execute_result"
    }
   ],
   "source": [
    "np.linspace(1,5).ndim"
   ]
  },
  {
   "cell_type": "code",
   "execution_count": 32,
   "metadata": {},
   "outputs": [
    {
     "data": {
      "text/plain": [
       "array([1.        , 1.44444444, 1.88888889, 2.33333333, 2.77777778,\n",
       "       3.22222222, 3.66666667, 4.11111111, 4.55555556, 5.        ])"
      ]
     },
     "execution_count": 32,
     "metadata": {},
     "output_type": "execute_result"
    }
   ],
   "source": [
    "np.linspace(1,5,10)  # 10 of the elements in the array between 1 and 5"
   ]
  },
  {
   "cell_type": "code",
   "execution_count": 33,
   "metadata": {},
   "outputs": [
    {
     "data": {
      "text/plain": [
       "array([1. , 1.4, 1.8, 2.2, 2.6, 3. , 3.4, 3.8, 4.2, 4.6])"
      ]
     },
     "execution_count": 33,
     "metadata": {},
     "output_type": "execute_result"
    }
   ],
   "source": [
    "L=np.linspace(1,5,10, endpoint=False)  # endpoint = 5 is not included\n",
    "L"
   ]
  },
  {
   "cell_type": "code",
   "execution_count": 34,
   "metadata": {},
   "outputs": [
    {
     "data": {
      "text/plain": [
       "array([[1.        , 1.44444444, 1.88888889, 2.33333333, 2.77777778],\n",
       "       [3.22222222, 3.66666667, 4.11111111, 4.55555556, 5.        ]])"
      ]
     },
     "execution_count": 34,
     "metadata": {},
     "output_type": "execute_result"
    }
   ],
   "source": [
    "np.linspace(1,5,10).reshape((2,5))"
   ]
  },
  {
   "cell_type": "code",
   "execution_count": 35,
   "metadata": {},
   "outputs": [
    {
     "name": "stdout",
     "output_type": "stream",
     "text": [
      "Dimensions of a are: 1\n",
      "Shape of a is (10,)\n",
      "Size of a is 10\n"
     ]
    }
   ],
   "source": [
    "# #we can also print the other attributes like dimensions,shape and size of an array\n",
    "print (\"Dimensions of a are:\", L.ndim)\n",
    "print (\"Shape of a is\", L.shape)\n",
    "print (\"Size of a is\", L.size)"
   ]
  },
  {
   "cell_type": "code",
   "execution_count": 36,
   "metadata": {},
   "outputs": [
    {
     "data": {
      "text/plain": [
       "array([[1., 1., 1.],\n",
       "       [1., 1., 1.]])"
      ]
     },
     "execution_count": 36,
     "metadata": {},
     "output_type": "execute_result"
    }
   ],
   "source": [
    "# Creating an Empty Array using empty_like Function\n",
    "# np.empty() creates an array with random values\n",
    "np.empty((2,3))"
   ]
  },
  {
   "cell_type": "code",
   "execution_count": 37,
   "metadata": {},
   "outputs": [
    {
     "data": {
      "text/plain": [
       "array([[0., 0., 0., 0., 0.],\n",
       "       [0., 0., 0., 0., 0.],\n",
       "       [0., 0., 0., 0., 0.]])"
      ]
     },
     "execution_count": 37,
     "metadata": {},
     "output_type": "execute_result"
    }
   ],
   "source": [
    "Empty_arr=np.empty([3,5])\n",
    "Empty_arr"
   ]
  },
  {
   "cell_type": "code",
   "execution_count": 38,
   "metadata": {},
   "outputs": [
    {
     "name": "stdout",
     "output_type": "stream",
     "text": [
      "Dimensions of a are: 2\n",
      "Shape of a is (3, 5)\n",
      "Size of a is 15\n"
     ]
    }
   ],
   "source": [
    "print (\"Dimensions of a are:\", Empty_arr.ndim)\n",
    "print (\"Shape of a is\", Empty_arr.shape)\n",
    "print (\"Size of a is\", Empty_arr.size)"
   ]
  },
  {
   "cell_type": "code",
   "execution_count": 39,
   "metadata": {},
   "outputs": [],
   "source": [
    "# ***4. Create an array with random number of normal distribution from 0 to 1, excludes 1\n",
    "# np.random.rand(5) # one dimensional\n",
    "# random.rand(d0, d1, ..., dn), do, d1...denotes  dimension 0, 1,2 and so on \n",
    "# Create an array of the given shape and populate it with random samples from a uniform distribution over [0, 1).\n",
    "\n",
    "#Parameters\n",
    "#d0, d1, …, dnint, optional\n",
    "#The dimensions of the returned array, must be non-negative. If no argument is given a single Python float is returned.\n",
    "\n",
    "#Returns outndarray, shape (d0, d1, ..., dn) Random values."
   ]
  },
  {
   "cell_type": "code",
   "execution_count": 40,
   "metadata": {},
   "outputs": [],
   "source": [
    "# ***The random module's np.random.rand() method returns a random float between 0 and 1."
   ]
  },
  {
   "cell_type": "code",
   "execution_count": 41,
   "metadata": {},
   "outputs": [
    {
     "data": {
      "text/plain": [
       "array([0.36072202, 0.31866257, 0.11196109, 0.52302401, 0.29458414])"
      ]
     },
     "execution_count": 41,
     "metadata": {},
     "output_type": "execute_result"
    }
   ],
   "source": [
    " np.random.rand(5) # dimension 0 with random numbers 5"
   ]
  },
  {
   "cell_type": "code",
   "execution_count": 42,
   "metadata": {},
   "outputs": [
    {
     "data": {
      "text/plain": [
       "array([0.17177388, 0.3217735 , 0.3844988 , 0.87234215, 0.83004596])"
      ]
     },
     "execution_count": 42,
     "metadata": {},
     "output_type": "execute_result"
    }
   ],
   "source": [
    " np.random.rand(5)"
   ]
  },
  {
   "cell_type": "code",
   "execution_count": 43,
   "metadata": {},
   "outputs": [
    {
     "data": {
      "text/plain": [
       "array([0.27520345, 0.81005582, 0.9105518 , 0.83836017, 0.35917848])"
      ]
     },
     "execution_count": 43,
     "metadata": {},
     "output_type": "execute_result"
    }
   ],
   "source": [
    " np.random.rand(5)  # uniform distribution [0,1)"
   ]
  },
  {
   "cell_type": "code",
   "execution_count": 44,
   "metadata": {},
   "outputs": [],
   "source": [
    "# Each time when you run  np.random.rand(5) it will give you a different array of 5 elements between 0 and 1 , 1 excluded"
   ]
  },
  {
   "cell_type": "code",
   "execution_count": 45,
   "metadata": {},
   "outputs": [
    {
     "data": {
      "text/plain": [
       "array([[0.50839264, 0.56048976, 0.98262768, 0.5590839 , 0.98198258,\n",
       "        0.2219974 , 0.66512012, 0.95785683, 0.22288651, 0.81859269],\n",
       "       [0.00684485, 0.05256403, 0.26343109, 0.56177976, 0.62517979,\n",
       "        0.7495593 , 0.32947323, 0.62142582, 0.55061144, 0.29973415]])"
      ]
     },
     "execution_count": 45,
     "metadata": {},
     "output_type": "execute_result"
    }
   ],
   "source": [
    "Rand_arr =np.random.rand(2, 10) # 2x10 dimensional array with 10 numbers  between 0 and 1\n",
    "Rand_arr"
   ]
  },
  {
   "cell_type": "code",
   "execution_count": 46,
   "metadata": {},
   "outputs": [
    {
     "name": "stdout",
     "output_type": "stream",
     "text": [
      "Dimensions of a are: 2\n",
      "Shape of a is (2, 10)\n",
      "Size of a is 20\n"
     ]
    }
   ],
   "source": [
    "print (\"Dimensions of a are:\", Rand_arr.ndim)\n",
    "print (\"Shape of a is\", Rand_arr.shape)\n",
    "print (\"Size of a is\", Rand_arr.size)"
   ]
  },
  {
   "cell_type": "code",
   "execution_count": 47,
   "metadata": {},
   "outputs": [
    {
     "data": {
      "text/plain": [
       "array([[[0.12599239, 0.83652005, 0.10932737, 0.3391921 , 0.06952523],\n",
       "        [0.92694013, 0.01546008, 0.33395972, 0.75831051, 0.18481854],\n",
       "        [0.45808833, 0.55230915, 0.02607844, 0.13394266, 0.0996577 ]],\n",
       "\n",
       "       [[0.38272655, 0.01084894, 0.65692303, 0.99444968, 0.25997457],\n",
       "        [0.57600274, 0.40162596, 0.78563867, 0.12420776, 0.7664676 ],\n",
       "        [0.69122824, 0.04713372, 0.94400352, 0.44876634, 0.88324909]]])"
      ]
     },
     "execution_count": 47,
     "metadata": {},
     "output_type": "execute_result"
    }
   ],
   "source": [
    "Rand_arr1=np.random.rand(2, 3,5) # 2 x3x5\n",
    "Rand_arr1"
   ]
  },
  {
   "cell_type": "code",
   "execution_count": 48,
   "metadata": {},
   "outputs": [
    {
     "name": "stdout",
     "output_type": "stream",
     "text": [
      "Dimensions of a are: 3\n",
      "Shape of a is (2, 3, 5)\n",
      "Size of a is 30\n"
     ]
    }
   ],
   "source": [
    "print (\"Dimensions of a are:\", Rand_arr1.ndim)\n",
    "print (\"Shape of a is\", Rand_arr1.shape)\n",
    "print (\"Size of a is\", Rand_arr1.size)"
   ]
  },
  {
   "cell_type": "code",
   "execution_count": 49,
   "metadata": {},
   "outputs": [
    {
     "data": {
      "text/plain": [
       "array([[[[0.95486196, 0.4089546 , 0.07832301, 0.41758967],\n",
       "         [0.04091685, 0.4209588 , 0.59801746, 0.02535836],\n",
       "         [0.03272249, 0.70473966, 0.70809372, 0.39682022],\n",
       "         [0.37745316, 0.09756689, 0.66355782, 0.43542847],\n",
       "         [0.39071343, 0.05974535, 0.76707933, 0.50950827]],\n",
       "\n",
       "        [[0.38056924, 0.8515938 , 0.26228204, 0.45476003],\n",
       "         [0.90785784, 0.29371052, 0.10167196, 0.87177708],\n",
       "         [0.9114324 , 0.52903121, 0.29026325, 0.60560489],\n",
       "         [0.49303424, 0.67188764, 0.57529321, 0.74025138],\n",
       "         [0.66670046, 0.0299164 , 0.38574918, 0.72708731]],\n",
       "\n",
       "        [[0.06730599, 0.61774024, 0.59758494, 0.87710547],\n",
       "         [0.90724937, 0.8952059 , 0.68895009, 0.43275492],\n",
       "         [0.08667885, 0.34516052, 0.4742161 , 0.4542651 ],\n",
       "         [0.72005069, 0.81938444, 0.81885581, 0.96323792],\n",
       "         [0.35988535, 0.03788892, 0.23707247, 0.27539707]]],\n",
       "\n",
       "\n",
       "       [[[0.89156213, 0.25604565, 0.81013463, 0.44926809],\n",
       "         [0.10526656, 0.22199665, 0.78832606, 0.24935282],\n",
       "         [0.83271547, 0.33648052, 0.26447933, 0.03370675],\n",
       "         [0.89416154, 0.24513389, 0.65684326, 0.12910876],\n",
       "         [0.5196646 , 0.23051901, 0.73652834, 0.23528014]],\n",
       "\n",
       "        [[0.59528559, 0.80536985, 0.88995185, 0.44523936],\n",
       "         [0.42830736, 0.39294661, 0.90324786, 0.29968881],\n",
       "         [0.04955922, 0.35284776, 0.6788707 , 0.90266136],\n",
       "         [0.77243202, 0.74471769, 0.28859148, 0.96721529],\n",
       "         [0.21103561, 0.69705726, 0.73149125, 0.1538001 ]],\n",
       "\n",
       "        [[0.39941844, 0.89186828, 0.87457068, 0.14203391],\n",
       "         [0.17783127, 0.04553344, 0.28045454, 0.02448316],\n",
       "         [0.39034239, 0.99707117, 0.54063973, 0.58309996],\n",
       "         [0.01800059, 0.87580476, 0.28465123, 0.32030124],\n",
       "         [0.03059675, 0.67070869, 0.72383263, 0.28125058]]]])"
      ]
     },
     "execution_count": 49,
     "metadata": {},
     "output_type": "execute_result"
    }
   ],
   "source": [
    "Rand_arr2=np.random.rand(2, 3,5,4)\n",
    "Rand_arr2"
   ]
  },
  {
   "cell_type": "code",
   "execution_count": 50,
   "metadata": {},
   "outputs": [
    {
     "name": "stdout",
     "output_type": "stream",
     "text": [
      "Dimensions of a are: 4\n",
      "Shape of a is (2, 3, 5, 4)\n",
      "Size of a is 120\n"
     ]
    }
   ],
   "source": [
    "print (\"Dimensions of a are:\", Rand_arr2.ndim)\n",
    "print (\"Shape of a is\", Rand_arr2.shape)\n",
    "print (\"Size of a is\", Rand_arr2.size)"
   ]
  },
  {
   "cell_type": "code",
   "execution_count": 51,
   "metadata": {},
   "outputs": [],
   "source": [
    "# np.random.randn()\n",
    "#random.randn(d0, d1, ..., dn)\n",
    "#Return a sample (or samples) from the “standard normal” distribution.\n",
    "#Parameters\n",
    "#d0, d1, …, dnint, optional\n",
    "#The dimensions of the returned array, must be non-negative. \n",
    "#If no argument is given a single Python float is returned.\n",
    "\n",
    "#Returns\n",
    "#ndarray or float\n",
    "# A (d0, d1, ..., dn)-shaped array of floating-point samples from the standard normal distribution, \n",
    "#or a single such float if no parameters were supplied.\n",
    "\n",
    "#Note:  randn generates an array of shape (d0, d1, ..., dn), \n",
    "#filled with random floats sampled from a univariate “normal” (Gaussian) distribution of mean 0 and variance 1"
   ]
  },
  {
   "cell_type": "code",
   "execution_count": 52,
   "metadata": {},
   "outputs": [
    {
     "data": {
      "text/plain": [
       "2.3293237511261595"
      ]
     },
     "execution_count": 52,
     "metadata": {},
     "output_type": "execute_result"
    }
   ],
   "source": [
    "# Example:\n",
    "np.random.randn()   # "
   ]
  },
  {
   "cell_type": "code",
   "execution_count": 53,
   "metadata": {},
   "outputs": [
    {
     "data": {
      "text/plain": [
       "array([-1.37607503,  0.78160811])"
      ]
     },
     "execution_count": 53,
     "metadata": {},
     "output_type": "execute_result"
    }
   ],
   "source": [
    "np.random.randn(2) # return a 2 dimensional standard normal distribution or a Gaussian\n",
    "\n",
    "               # distribution"
   ]
  },
  {
   "cell_type": "code",
   "execution_count": 54,
   "metadata": {},
   "outputs": [
    {
     "data": {
      "text/plain": [
       "array([[[-2.05892911, -0.65472112,  0.07601311, -0.03627462],\n",
       "        [-1.26063748, -0.34523789, -1.53093654, -0.80434745],\n",
       "        [ 1.17947228,  0.40032339,  0.44906695,  0.84178261]],\n",
       "\n",
       "       [[-0.02276881,  1.40361239, -0.09054117,  0.13163269],\n",
       "        [ 1.01514124,  0.22748611, -0.20336459,  0.62219956],\n",
       "        [-0.63093106, -0.74597999, -1.2560131 , -1.45646617]]])"
      ]
     },
     "execution_count": 54,
     "metadata": {},
     "output_type": "execute_result"
    }
   ],
   "source": [
    "np.random.randn(2,3,4)"
   ]
  },
  {
   "cell_type": "code",
   "execution_count": 55,
   "metadata": {},
   "outputs": [],
   "source": [
    "# The np.random.randint(num,size=) method takes a size parameter where you can specify the shape of an array."
   ]
  },
  {
   "cell_type": "code",
   "execution_count": 56,
   "metadata": {},
   "outputs": [
    {
     "data": {
      "text/plain": [
       "array([[9, 6],\n",
       "       [3, 1]])"
      ]
     },
     "execution_count": 56,
     "metadata": {},
     "output_type": "execute_result"
    }
   ],
   "source": [
    "Randint_arr=np.random.randint(10,size=(2,2)) # generate any 10 numbers of size 2x2\n",
    "Randint_arr"
   ]
  },
  {
   "cell_type": "code",
   "execution_count": 57,
   "metadata": {},
   "outputs": [
    {
     "name": "stdout",
     "output_type": "stream",
     "text": [
      "Dimensions of a are: 2\n",
      "Shape of a is (2, 2)\n",
      "Size of a is 4\n"
     ]
    }
   ],
   "source": [
    "print (\"Dimensions of a are:\", Randint_arr.ndim)\n",
    "print (\"Shape of a is\", Randint_arr.shape)\n",
    "print (\"Size of a is\", Randint_arr.size)"
   ]
  },
  {
   "cell_type": "code",
   "execution_count": 58,
   "metadata": {},
   "outputs": [
    {
     "data": {
      "text/plain": [
       "array([[[ 2,  5],\n",
       "        [ 3,  5],\n",
       "        [19,  9]],\n",
       "\n",
       "       [[15,  5],\n",
       "        [14, 13],\n",
       "        [15,  5]]])"
      ]
     },
     "execution_count": 58,
     "metadata": {},
     "output_type": "execute_result"
    }
   ],
   "source": [
    "Randint_arr1=np.random.randint(20, size=(2,3,2))\n",
    "Randint_arr1"
   ]
  },
  {
   "cell_type": "code",
   "execution_count": 59,
   "metadata": {},
   "outputs": [
    {
     "name": "stdout",
     "output_type": "stream",
     "text": [
      "Dimensions of a are: 3\n",
      "Shape of a is (2, 3, 2)\n",
      "Size of a is 12\n"
     ]
    }
   ],
   "source": [
    "print (\"Dimensions of a are:\", Randint_arr1.ndim)\n",
    "print (\"Shape of a is\", Randint_arr1.shape)\n",
    "print (\"Size of a is\", Randint_arr1.size)"
   ]
  },
  {
   "cell_type": "code",
   "execution_count": 60,
   "metadata": {},
   "outputs": [
    {
     "data": {
      "text/plain": [
       "29"
      ]
     },
     "execution_count": 60,
     "metadata": {},
     "output_type": "execute_result"
    }
   ],
   "source": [
    "np.random.randint(50) # return one number of the range up to 50"
   ]
  },
  {
   "cell_type": "code",
   "execution_count": 61,
   "metadata": {},
   "outputs": [
    {
     "data": {
      "text/plain": [
       "array([ 0,  1,  2,  3,  4,  5,  6,  7,  8,  9, 10, 11, 12, 13, 14, 15, 16,\n",
       "       17, 18, 19, 20, 21, 22, 23, 24, 25, 26, 27, 28, 29, 30, 31, 32, 33,\n",
       "       34, 35, 36, 37, 38, 39, 40, 41, 42, 43, 44, 45, 46, 47, 48, 49])"
      ]
     },
     "execution_count": 61,
     "metadata": {},
     "output_type": "execute_result"
    }
   ],
   "source": [
    "np.arange(50) # return 50 numbers up to 50"
   ]
  },
  {
   "cell_type": "code",
   "execution_count": 62,
   "metadata": {},
   "outputs": [
    {
     "data": {
      "text/plain": [
       "array([ 0,  1,  2,  3,  4,  5,  6,  7,  8,  9, 10, 11, 12, 13, 14, 15, 16,\n",
       "       17, 18, 19, 20, 21, 22, 23, 24, 25, 26, 27, 28, 29, 30, 31, 32, 33,\n",
       "       34, 35, 36, 37, 38, 39, 40, 41, 42, 43, 44, 45, 46, 47, 48, 49])"
      ]
     },
     "execution_count": 62,
     "metadata": {},
     "output_type": "execute_result"
    }
   ],
   "source": [
    "np.arange(50)"
   ]
  },
  {
   "cell_type": "code",
   "execution_count": 63,
   "metadata": {},
   "outputs": [
    {
     "data": {
      "text/plain": [
       "array([[2, 2, 3],\n",
       "       [4, 4, 3]])"
      ]
     },
     "execution_count": 63,
     "metadata": {},
     "output_type": "execute_result"
    }
   ],
   "source": [
    "np.random.choice([1,2,3,4],size=(2,3))\n",
    "# the choice method generates a ramdom array with one number/numbers\n",
    "# out of the given list with the given size"
   ]
  },
  {
   "cell_type": "code",
   "execution_count": 64,
   "metadata": {},
   "outputs": [
    {
     "data": {
      "text/plain": [
       "array([[12,  1],\n",
       "       [27,  0]])"
      ]
     },
     "execution_count": 64,
     "metadata": {},
     "output_type": "execute_result"
    }
   ],
   "source": [
    "np.random.choice(30, size=(2,2)) # return a random number/or array from 0 to 30 similar to randint method"
   ]
  },
  {
   "cell_type": "code",
   "execution_count": 65,
   "metadata": {},
   "outputs": [
    {
     "data": {
      "text/plain": [
       "array([[27, 23],\n",
       "       [27, 21]])"
      ]
     },
     "execution_count": 65,
     "metadata": {},
     "output_type": "execute_result"
    }
   ],
   "source": [
    "np.random.randint(30, size=(2,2)) # return a random array from 0 to 30 with size =(2,2)"
   ]
  },
  {
   "cell_type": "code",
   "execution_count": 67,
   "metadata": {},
   "outputs": [
    {
     "data": {
      "text/plain": [
       "array([[ 0,  1,  2,  3,  4],\n",
       "       [ 5,  6,  7,  8,  9],\n",
       "       [10, 11, 12, 13, 14],\n",
       "       [15, 16, 17, 18, 19],\n",
       "       [20, 21, 22, 23, 24]])"
      ]
     },
     "execution_count": 67,
     "metadata": {},
     "output_type": "execute_result"
    }
   ],
   "source": [
    "arr_range= np.arange(25).reshape(5,5)\n",
    "arr_range\n"
   ]
  },
  {
   "cell_type": "code",
   "execution_count": null,
   "metadata": {},
   "outputs": [],
   "source": [
    "# Useful methods and attributes: shape, dtype, min(), max(), argmin(index of the max), argmax, ndim, size"
   ]
  },
  {
   "cell_type": "code",
   "execution_count": 69,
   "metadata": {},
   "outputs": [
    {
     "data": {
      "text/plain": [
       "(5, 5)"
      ]
     },
     "execution_count": 69,
     "metadata": {},
     "output_type": "execute_result"
    }
   ],
   "source": [
    "arr_range.shape"
   ]
  },
  {
   "cell_type": "code",
   "execution_count": 70,
   "metadata": {},
   "outputs": [
    {
     "data": {
      "text/plain": [
       "25"
      ]
     },
     "execution_count": 70,
     "metadata": {},
     "output_type": "execute_result"
    }
   ],
   "source": [
    "arr_range.size"
   ]
  },
  {
   "cell_type": "code",
   "execution_count": 71,
   "metadata": {},
   "outputs": [
    {
     "data": {
      "text/plain": [
       "dtype('int32')"
      ]
     },
     "execution_count": 71,
     "metadata": {},
     "output_type": "execute_result"
    }
   ],
   "source": [
    "arr_range.dtype"
   ]
  },
  {
   "cell_type": "code",
   "execution_count": 75,
   "metadata": {},
   "outputs": [
    {
     "data": {
      "text/plain": [
       "2"
      ]
     },
     "execution_count": 75,
     "metadata": {},
     "output_type": "execute_result"
    }
   ],
   "source": [
    "arr_range.ndim"
   ]
  },
  {
   "cell_type": "code",
   "execution_count": 76,
   "metadata": {},
   "outputs": [
    {
     "data": {
      "text/plain": [
       "0"
      ]
     },
     "execution_count": 76,
     "metadata": {},
     "output_type": "execute_result"
    }
   ],
   "source": [
    "arr_range.min()  # min() method"
   ]
  },
  {
   "cell_type": "code",
   "execution_count": 79,
   "metadata": {},
   "outputs": [
    {
     "data": {
      "text/plain": [
       "0"
      ]
     },
     "execution_count": 79,
     "metadata": {},
     "output_type": "execute_result"
    }
   ],
   "source": [
    "arr_range.argmin()  # index of the min"
   ]
  },
  {
   "cell_type": "code",
   "execution_count": 80,
   "metadata": {},
   "outputs": [
    {
     "data": {
      "text/plain": [
       "24"
      ]
     },
     "execution_count": 80,
     "metadata": {},
     "output_type": "execute_result"
    }
   ],
   "source": [
    "arr_range.max()"
   ]
  },
  {
   "cell_type": "code",
   "execution_count": 81,
   "metadata": {},
   "outputs": [
    {
     "data": {
      "text/plain": [
       "24"
      ]
     },
     "execution_count": 81,
     "metadata": {},
     "output_type": "execute_result"
    }
   ],
   "source": [
    "arr_range.argmax()"
   ]
  },
  {
   "cell_type": "code",
   "execution_count": 98,
   "metadata": {},
   "outputs": [],
   "source": [
    "import numpy as np\n",
    "from numpy.random import randint\n",
    "from numpy.random import choice"
   ]
  },
  {
   "cell_type": "code",
   "execution_count": 95,
   "metadata": {},
   "outputs": [
    {
     "data": {
      "text/plain": [
       "array([[4, 0, 1],\n",
       "       [5, 0, 7]])"
      ]
     },
     "execution_count": 95,
     "metadata": {},
     "output_type": "execute_result"
    }
   ],
   "source": [
    "randint(10, size=(2,3))  # similar to random.choice"
   ]
  },
  {
   "cell_type": "code",
   "execution_count": 99,
   "metadata": {},
   "outputs": [
    {
     "data": {
      "text/plain": [
       "array([[5, 8, 9],\n",
       "       [7, 1, 4]])"
      ]
     },
     "execution_count": 99,
     "metadata": {},
     "output_type": "execute_result"
    }
   ],
   "source": [
    "choice(10, (2,3))"
   ]
  },
  {
   "cell_type": "code",
   "execution_count": null,
   "metadata": {},
   "outputs": [],
   "source": []
  },
  {
   "cell_type": "code",
   "execution_count": null,
   "metadata": {},
   "outputs": [],
   "source": [
    "## *** Conclusion: how to create a numpy array either by \n",
    "# 1.  casting a list to a higher array or\n",
    "# 2. by using  one of the built in functions for a Numpy arrays such as arr.zeros and ones linspace and eye and\n",
    "\n",
    "# 3. also the random generation methods you call np.random.rand() and then np.random.randn() and or some\n",
    "\n",
    "# of the other random methods  np.random.randint()."
   ]
  },
  {
   "cell_type": "code",
   "execution_count": null,
   "metadata": {},
   "outputs": [],
   "source": [
    "### Useful methods and attributes for a numpy array:\n",
    "# 1. methods: reshape(), min(), max(), argmin(), argmax()\n",
    "2. attributes: shape, dtype, ndim, size"
   ]
  }
 ],
 "metadata": {
  "kernelspec": {
   "display_name": "Python 3",
   "language": "python",
   "name": "python3"
  },
  "language_info": {
   "codemirror_mode": {
    "name": "ipython",
    "version": 3
   },
   "file_extension": ".py",
   "mimetype": "text/x-python",
   "name": "python",
   "nbconvert_exporter": "python",
   "pygments_lexer": "ipython3",
   "version": "3.7.1"
  }
 },
 "nbformat": 4,
 "nbformat_minor": 2
}
